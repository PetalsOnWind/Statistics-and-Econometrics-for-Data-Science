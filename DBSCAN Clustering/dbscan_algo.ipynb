{
  "nbformat": 4,
  "nbformat_minor": 0,
  "metadata": {
    "celltoolbar": "Create Assignment",
    "kernelspec": {
      "display_name": "Python 3",
      "language": "python",
      "name": "python3"
    },
    "language_info": {
      "codemirror_mode": {
        "name": "ipython",
        "version": 3
      },
      "file_extension": ".py",
      "mimetype": "text/x-python",
      "name": "python",
      "nbconvert_exporter": "python",
      "pygments_lexer": "ipython3",
      "version": "3.7.3"
    },
    "colab": {
      "name": "dbscan.ipynb",
      "provenance": []
    }
  },
  "cells": [
    {
      "cell_type": "markdown",
      "metadata": {
        "nbgrader": {
          "grade": false,
          "locked": true,
          "solution": false
        },
        "id": "OuLVhT7ZTu2Z"
      },
      "source": [
        "[![Open in Colab](https://colab.research.google.com/assets/colab-badge.svg)](https://colab.research.google.com/github/hpcgarage/pyboot-g2s3/blob/master/supplemental/dbscan.ipynb)\n",
        "\n",
        "# Exercises: Implementing DBSCAN\n",
        "\n",
        "These exercises walk you through a Python implementation of an algorithm for clustering called [DBSCAN](https://en.wikipedia.org/wiki/DBSCAN), which is short for _density-based spatial clustering for applications with noise_. It addresses a limitation of $k$-means clustering, as described below.\n",
        "\n",
        "Although there are existing implementations for Python (e.g., [see here](http://scikit-learn.org/stable/modules/generated/sklearn.cluster.dbscan.html)), in this notebook we are asking you to build it from scratch, albeit using a lot of scaffolding that we have provided."
      ]
    },
    {
      "cell_type": "markdown",
      "metadata": {
        "nbgrader": {
          "grade": false,
          "locked": true,
          "solution": false
        },
        "id": "U1R8bod5Tu2b"
      },
      "source": [
        "## Setup\n",
        "\n",
        "Here are the modules you will need for this problem."
      ]
    },
    {
      "cell_type": "code",
      "metadata": {
        "id": "aq4UTJaWTu2b"
      },
      "source": [
        "from IPython.display import display\n",
        "\n",
        "import numpy as np\n",
        "import pandas as pd\n",
        "import seaborn as sns\n",
        "\n",
        "%matplotlib inline\n",
        "import matplotlib.pyplot as plt\n",
        "\n",
        "# Adapted from: https://blog.dominodatalab.com/topology-and-density-based-clustering/\n",
        "def make_crater (inner_rad=4, outer_rad=4.5, donut_len=2, inner_pts=1000, outer_pts=500, label=False):\n",
        "    # Make the inner core\n",
        "    radius_core = inner_rad*np.random.random (inner_pts)\n",
        "    direction_core = 2*np.pi*np.random.random (size=inner_pts)\n",
        "\n",
        "    # Simulate inner core points\n",
        "    core_x = radius_core*np.cos (direction_core)\n",
        "    core_y = radius_core*np.sin (direction_core)\n",
        "    crater_core = pd.DataFrame ({'x_1': core_x, 'x_2': core_y})\n",
        "    if label: crater_core['label'] = 0\n",
        "\n",
        "    # Make the outer ring\n",
        "    radius_ring = outer_rad + donut_len*np.random.random(outer_pts)\n",
        "    direction_ring = 2*np.pi*np.random.random(size = outer_pts)\n",
        "\n",
        "    # Simulate ring points\n",
        "    ring_x = radius_ring*np.cos(direction_ring)\n",
        "    ring_y = radius_ring*np.sin(direction_ring)\n",
        "    crater_ring = pd.DataFrame ({'x_1': ring_x, 'x_2': ring_y})\n",
        "    if label: crater_ring['label'] = 1\n",
        "\n",
        "    return pd.concat ([crater_core, crater_ring])\n",
        "\n",
        "def make_scatter_plot (df, x=\"x_1\", y=\"x_2\", hue=\"label\",\n",
        "                       palette={0: \"red\", 1: \"olive\", 2: \"blue\", 3: \"green\"},\n",
        "                       size=5,\n",
        "                       centers=None):\n",
        "    if (hue is not None) and (hue in df.columns):\n",
        "        sns.lmplot (x=x, y=y, hue=hue, data=df, palette=palette,\n",
        "                    fit_reg=False)\n",
        "    else:\n",
        "        sns.lmplot (x=x, y=y, data=df, fit_reg=False)\n",
        "\n",
        "    if centers is not None:\n",
        "        plt.scatter (centers[:,0], centers[:,1],\n",
        "                     marker=u'*', s=500,\n",
        "                     c=[palette[0], palette[1]])\n",
        "\n",
        "def make_scatter_plot2 (df, x=\"x_1\", y=\"x_2\", hue=\"label\", size=5):\n",
        "    if (hue is not None) and (hue in df.columns):\n",
        "        sns.lmplot (x=x, y=y, hue=hue, data=df,\n",
        "                    fit_reg=False)\n",
        "    else:\n",
        "        sns.lmplot (x=x, y=y, data=df, fit_reg=False)"
      ],
      "execution_count": null,
      "outputs": []
    },
    {
      "cell_type": "markdown",
      "metadata": {
        "nbgrader": {
          "grade": false,
          "locked": true,
          "solution": false
        },
        "id": "fkc2vkVfTu2d"
      },
      "source": [
        "## Loading the data\n",
        "\n",
        "We will work work with a synthetic data set that is an especially bad case for $k$-means. It's sometimes called the \"crater\" data because of its shape. The data points are stored in a file named `crater.csv`.\n",
        "\n",
        "> The data files you'll need should be provided in this repository. To load them, you'll need to wrap the filenames using the function `fn(f)`, defined below. If you are working locally, you can obtain a copy at the following URL and may need to modify `fn(f)` accordingly: https://cse6040.gatech.edu/datasets/dbscan.zip"
      ]
    },
    {
      "cell_type": "code",
      "metadata": {
        "id": "JvjMXcj-Tu2d"
      },
      "source": [
        "def fn(fn_base, dirname='./dbscan/'): # `dirname` set by default to its location in our repository\n",
        "    return '{}{}'.format(dirname, fn_base)\n",
        "\n",
        "# Demo:\n",
        "fn('crater.csv')"
      ],
      "execution_count": null,
      "outputs": []
    },
    {
      "cell_type": "markdown",
      "metadata": {
        "nbgrader": {
          "grade": false,
          "locked": true,
          "solution": false
        },
        "id": "nnVkolFhTu2d"
      },
      "source": [
        "**Exercise 0** (1 point). Start by reading the data into a Pandas data frame. The data is stored locally within this assignment in a file called `crater.csv`. Store your data frame in a variable named `crater`."
      ]
    },
    {
      "cell_type": "code",
      "metadata": {
        "nbgrader": {
          "grade": false,
          "grade_id": "load_crater",
          "locked": false,
          "solution": true
        },
        "id": "yw5oPinqTu2d"
      },
      "source": [
        "###\n",
        "### YOUR CODE HERE\n",
        "###\n",
        "\n",
        "display (crater.head (3))\n",
        "print (\"...\")\n",
        "display (crater.tail (3))"
      ],
      "execution_count": null,
      "outputs": []
    },
    {
      "cell_type": "code",
      "metadata": {
        "nbgrader": {
          "grade": true,
          "grade_id": "load_crater_test",
          "locked": true,
          "points": 1,
          "solution": false
        },
        "id": "lEsVcmnvTu2e"
      },
      "source": [
        "assert len (crater) == 1500\n",
        "assert set (crater.columns) == set (['x_1', 'x_2', 'kmeans_label'])\n",
        "\n",
        "with open (fn('crater_counts.txt'), 'rt') as fp:\n",
        "    true_counts = [int (c) for c in fp.read ().split (',')]\n",
        "    assert sum (crater['kmeans_label'] == 0) == true_counts[0]\n",
        "    assert sum (crater['kmeans_label'] == 1) == true_counts[1]\n",
        "    \n",
        "make_scatter_plot (crater, hue='kmeans_label')\n",
        "\n",
        "print (\"\\n(Passed!)\")"
      ],
      "execution_count": null,
      "outputs": []
    },
    {
      "cell_type": "markdown",
      "metadata": {
        "nbgrader": {
          "grade": false,
          "locked": true,
          "solution": false
        },
        "id": "_I1G6vPUTu2e"
      },
      "source": [
        "The testing code plots these data points, which are 2-D. The colors show the clusters computed by $k$-means for $k=2$. Notice that the \"natural\" structure is, arguably, a dense ball in the middle and a ring (donut) on the outside. However, $k$-means instead split the points about an arbitrary line that cuts through the middle of the points.\n",
        "\n",
        "Indeed, this fact is one of the limitations of $k$-means: it works well when you know the value of $k$ and the $k$ clusters come from Gaussian distributions of similar shape and size (and, therefore, density). However, if you don't know $k$ or there is non-uniform shape and density among the clusters---or some other grouping, as above---then $k$-means does not work well (qualitatively)."
      ]
    },
    {
      "cell_type": "markdown",
      "metadata": {
        "nbgrader": {
          "grade": false,
          "locked": true,
          "solution": false
        },
        "id": "8GSSB3ESTu2e"
      },
      "source": [
        "## Elements of DBSCAN\n",
        "\n",
        "The DBSCAN algorithm takes a different approach. Rather than having to provide the number of clusters, $k$, you define parameters related to _neighborhoods_ and _target density_. Let's see how DBSCAN works by building it from the ground up."
      ]
    },
    {
      "cell_type": "markdown",
      "metadata": {
        "nbgrader": {
          "grade": false,
          "locked": true,
          "solution": false
        },
        "id": "T9C8-9dnTu2e"
      },
      "source": [
        "### Neighborhoods\n",
        "\n",
        "The first important concept in DBSCAN is that of an _$\\epsilon$-neighborhood_.\n",
        "\n",
        "Consider any point $p$. The $\\epsilon$-neighborhood of $p$ is the set of all points within a distance of $\\epsilon$ from $p$. That is, if $\\{\\hat{x}_0, \\hat{x}_1, \\ldots, \\hat{x}_{m-1}\\}$ is a collection of $m$ data points, then the $\\epsilon$-neighborhood centered at $p$ is\n",
        "\n",
        "$$\n",
        "  N_{\\epsilon}(p) = \\{\\hat{x}_i : \\|\\hat{x}_i - p\\|_2 \\leq \\epsilon\\},\n",
        "$$\n",
        "\n",
        "where the measure of distance is Euclidean (i.e., the two-norm). Notice that this definition would _include_ the point $p$ if $p$ is one of the data points."
      ]
    },
    {
      "cell_type": "markdown",
      "metadata": {
        "nbgrader": {
          "grade": false,
          "locked": true,
          "solution": false
        },
        "id": "yW2MzvUOTu2e"
      },
      "source": [
        "**Exercise 1** (1 point). Implement a function that computes the $\\epsilon$-neighborhood of $p$ for a data matrix of points, $X$, defined by our usual convention as\n",
        "\n",
        "$$\n",
        "  X = \\left( \\begin{array}{c} \\hat{x}_0^T \\\\ \\hat{x}_1^T \\\\ \\vdots \\\\ \\hat{x}_{m-1}^T \\end{array} \\right).\n",
        "$$\n",
        "\n",
        "In particular, complete the function named `region_query(p, eps, X)` below. Its inputs are:\n",
        "\n",
        "- `p[:d]`: The query point, of dimension `d`.\n",
        "- `eps`: The size of the ball around `p` to search.\n",
        "- `X[:m, :d]`: The set of points, i.e., data matrix.\n",
        "\n",
        "It should return a boolean Numpy array `adj[:m]` with one entry per point (i.e., per row of `X`). The entry `adj[i]` should be `True` only if `X[i, :]` lies within the `eps`-sized ball centered at `p`.\n",
        "\n",
        "> _Hint:_ There is a one-line solution of the form, `return (boolean array expression)`."
      ]
    },
    {
      "cell_type": "code",
      "metadata": {
        "nbgrader": {
          "grade": false,
          "grade_id": "region_query",
          "locked": false,
          "solution": true
        },
        "id": "uJHEEqg4Tu2f"
      },
      "source": [
        "def region_query (p, eps, X):\n",
        "    # These lines check that the inputs `p` and `X` have\n",
        "    # the right shape.\n",
        "    _, dim = X.shape\n",
        "    assert (p.shape == (dim,)) or (p.shape == (1, dim)) or (p.shape == (dim, 1))\n",
        "    \n",
        "    ###\n",
        "    ### YOUR CODE HERE\n",
        "    ###"
      ],
      "execution_count": null,
      "outputs": []
    },
    {
      "cell_type": "markdown",
      "metadata": {
        "nbgrader": {
          "grade": false,
          "locked": true,
          "solution": false
        },
        "id": "ZOydJ6oxTu2f"
      },
      "source": [
        "Here is the test code for `region_query()`. In addition to sanity-checking your solution, it plots the original points, a query point (marked by a red star), and highlights all points in an $\\epsilon$-neighborhood computed by your function so you can visually verify the result. (In this test, $p=(-0.5, 1.2)$ and $\\epsilon=1.0$.)"
      ]
    },
    {
      "cell_type": "code",
      "metadata": {
        "nbgrader": {
          "grade": true,
          "grade_id": "region_query_test",
          "locked": true,
          "points": 1,
          "solution": false
        },
        "id": "8MlmOeW6Tu2f"
      },
      "source": [
        "X = crater[['x_1', 'x_2']].values\n",
        "p = np.array ([-0.5, 1.2])\n",
        "in_region = region_query (p, 1.0, X)\n",
        "\n",
        "crater_ball = crater.copy ()\n",
        "crater_ball['label'] = in_region\n",
        "make_scatter_plot (crater_ball, centers=p[np.newaxis])\n",
        "\n",
        "with open (fn('region_query_soln.txt'), 'rt') as fp:\n",
        "    assert int (fp.read ()) == sum (in_region)\n",
        "\n",
        "print (\"\\n(Passed!)\")"
      ],
      "execution_count": null,
      "outputs": []
    },
    {
      "cell_type": "markdown",
      "metadata": {
        "nbgrader": {
          "grade": false,
          "locked": true,
          "solution": false
        },
        "id": "32IBTv4-Tu2f"
      },
      "source": [
        "**Exercise 2** (1 point). Suppose you are given a vector `y[:]` of boolean (`True` and `False`) values, such as the one computed above. Write a function named `index_set(y)` that returns the index locations of all of `y`'s `True` elements. **Your function must return these index values as a Python set.**"
      ]
    },
    {
      "cell_type": "code",
      "metadata": {
        "nbgrader": {
          "grade": false,
          "grade_id": "indices",
          "locked": false,
          "solution": true
        },
        "id": "DhQgvXXbTu2g"
      },
      "source": [
        "def index_set (y):\n",
        "    \"\"\"\n",
        "    Given a boolean vector, this function returns\n",
        "    the indices of all True elements.\n",
        "    \"\"\"\n",
        "    assert len (y.shape) == 1\n",
        "\n",
        "    ###\n",
        "    ### YOUR CODE HERE\n",
        "    ###"
      ],
      "execution_count": null,
      "outputs": []
    },
    {
      "cell_type": "code",
      "metadata": {
        "nbgrader": {
          "grade": true,
          "grade_id": "indices_test",
          "locked": true,
          "points": 1,
          "solution": false
        },
        "id": "MaXCDho9Tu2g"
      },
      "source": [
        "y_test = np.array ([True, False, False, True, False, True, True, True, False])\n",
        "i_soln = set ([0, 3, 5, 6, 7])\n",
        "\n",
        "i_test = index_set (y_test)\n",
        "assert type (i_test) is set\n",
        "assert len (i_test) == len (i_soln)\n",
        "assert i_test == i_soln\n",
        "\n",
        "print (\"\\n(Passed!)\")"
      ],
      "execution_count": null,
      "outputs": []
    },
    {
      "cell_type": "markdown",
      "metadata": {
        "nbgrader": {
          "grade": false,
          "locked": true,
          "solution": false
        },
        "id": "k63HMR7pTu2g"
      },
      "source": [
        "**Exercise 3** (1 point). Given a value for $\\epsilon$ and a data matrix $X$ of points, complete the function below so that it determines the neighborhood of each point.\n",
        "\n",
        "Your function,\n",
        "\n",
        "```python\n",
        "    def find_neighbors(eps, X[:m, :]):\n",
        "        ...\n",
        "```\n",
        "\n",
        "should return a Python list `neighbors[:m]` such that `neighbors[i]` is the index set of neighbors of point `X[i, :]`."
      ]
    },
    {
      "cell_type": "code",
      "metadata": {
        "nbgrader": {
          "grade": false,
          "grade_id": "find_neighbors",
          "locked": false,
          "solution": true
        },
        "id": "SavIvEzsTu2g"
      },
      "source": [
        "def find_neighbors (eps, X):\n",
        "    m, d = X.shape\n",
        "    neighbors = [] # Empty list to start\n",
        "    ###\n",
        "    ### YOUR CODE HERE\n",
        "    ###\n",
        "    assert len (neighbors) == m\n",
        "    return neighbors"
      ],
      "execution_count": null,
      "outputs": []
    },
    {
      "cell_type": "code",
      "metadata": {
        "nbgrader": {
          "grade": true,
          "grade_id": "find_neighbors_test",
          "locked": true,
          "points": 1,
          "solution": false
        },
        "id": "JcFu7Qv_Tu2g"
      },
      "source": [
        "with open (fn('find_neighbors_soln.csv'), 'rt') as fp:\n",
        "    neighbors = find_neighbors (0.25, X)\n",
        "    for i, n_i in enumerate (neighbors):\n",
        "        j_, c_j_ = fp.readline ().split (',')\n",
        "        assert (i == int (j_)) and (len (n_i) == int (c_j_))\n",
        "        \n",
        "print (\"\\n(Passed!)\")"
      ],
      "execution_count": null,
      "outputs": []
    },
    {
      "cell_type": "markdown",
      "metadata": {
        "nbgrader": {
          "grade": false,
          "locked": true,
          "solution": false
        },
        "id": "3RemJtdBTu2h"
      },
      "source": [
        "### Density\n",
        "\n",
        "The next important concept in DBSCAN is that of the _density_ of a neighborhood. Intuitively, the DBSCAN algorithm will try to \"grow\" clusters around points whose neighborhoods are sufficiently dense.\n",
        "\n",
        "Let's make this idea more precise.\n",
        "\n",
        "**Definition: _core points_.** A point $p$ is a _core point_ if its $\\epsilon$-neighborhood has at least $s$ points.\n",
        "\n",
        "In other words, the algorithm now has two user-defined parameters: the neighborhood size, $\\epsilon$, and the minimum density, specified using a threshold $s$ on the number of points in such a neighborhood."
      ]
    },
    {
      "cell_type": "markdown",
      "metadata": {
        "nbgrader": {
          "grade": false,
          "locked": true,
          "solution": false
        },
        "id": "c7LKduVFTu2h"
      },
      "source": [
        "**Exercise 4** (2 points). Complete the function, `find_core_points(s, neighbors)`, below. It takes as input a minimum-points threshold, `s`, and a list of point neighborhoods, `neighbors[:]`, such that `neighbors[i]` is the (index) set of neighbors of point `i`. It should return a Python set, `core_set`, such that an index `j in core_set` only if the size of the neighborhood at `j` is at least `s`."
      ]
    },
    {
      "cell_type": "code",
      "metadata": {
        "nbgrader": {
          "grade": false,
          "grade_id": "find_core_points",
          "locked": false,
          "solution": true
        },
        "id": "myPShk4dTu2h"
      },
      "source": [
        "def find_core_points (s, neighbors):\n",
        "    assert type (neighbors) is list\n",
        "    assert all ([type (n) is set for n in neighbors])\n",
        "    \n",
        "    core_set = set ()\n",
        "    ###\n",
        "    ### YOUR CODE HERE\n",
        "    ###\n",
        "    return core_set"
      ],
      "execution_count": null,
      "outputs": []
    },
    {
      "cell_type": "code",
      "metadata": {
        "nbgrader": {
          "grade": true,
          "grade_id": "find_core_points_test",
          "locked": true,
          "points": 2,
          "solution": false
        },
        "id": "9QAzqXoNTu2h"
      },
      "source": [
        "core_set = find_core_points (5, neighbors)\n",
        "print (\"Found {} core points.\".format (len (core_set)))\n",
        "\n",
        "def plot_core_set (df, core_set):\n",
        "    df_labeled = df.copy ()\n",
        "    df_labeled['label'] = False\n",
        "    df_labeled.loc[list (core_set), 'label'] = True\n",
        "    make_scatter_plot (df_labeled)\n",
        "    \n",
        "plot_core_set (crater, core_set)\n",
        "\n",
        "with open (fn('find_core_points_soln.txt'), 'rt') as fp:\n",
        "    core_set_soln = set ([int (i) for i in fp.read ().split ()])\n",
        "    assert core_set == core_set_soln\n",
        "    \n",
        "print (\"\\n(Passed!)\")"
      ],
      "execution_count": null,
      "outputs": []
    },
    {
      "cell_type": "markdown",
      "metadata": {
        "nbgrader": {
          "grade": false,
          "locked": true,
          "solution": false
        },
        "id": "d8QElzXSTu2i"
      },
      "source": [
        "### Growing clusters via \"reachable\" points\n",
        "\n",
        "The last concept needed for DBSCAN is the idea of _growing_ a cluster around a core point. It depends on the notion of _reachability_.\n",
        "\n",
        "**Definition: Reachability.** A point $q$ is _reachable_ from another point $p$ if there exists a sequence of points $p=p_1, p_2, \\ldots, p_k=q$ such that every $p_i$ is a core point, possibly except for $p_k=q$, and $p_{i} \\in N_\\epsilon(p_{i-1})$ for all $1 < i < k$.\n",
        "\n",
        "This procedure works as follows.\n",
        "\n",
        "**\"Expand Cluster\"** procedure:\n",
        "1. Consider any point $p$ that is not yet assigned to a cluster.\n",
        "2. If $p$ is a core point, then start a new cluster for it.\n",
        "3. Maintain a \"reachable\" set, which will be used to hold points that are reachable from $p$ as they are encountered. Initially, the reachable points are just $p$'s $\\epsilon$-neighbors.\n",
        "4. Remove any point $q$ from the reachable set.\n",
        "5. If $q$ has not yet been visited, then mark it as being visited.\n",
        "6. If $q$ is also a core point, then add all of its neighbors to the reachable set, per the definition of \"reachability\" above.\n",
        "7. If $q$ is not yet assigned to any cluster, then add it to $p$'s cluster.\n",
        "\n",
        "Notice how this procedure explores the points reachable from $p$ (Step 6). Intuitively, it is trying to join all neighborhoods whose core points are mutually contained."
      ]
    },
    {
      "cell_type": "markdown",
      "metadata": {
        "nbgrader": {
          "grade": false,
          "locked": true,
          "solution": false
        },
        "id": "1olo2KhVTu2i"
      },
      "source": [
        "Here is a brief illustration of these concepts:\n",
        "\n",
        "![Example: Growing clusters](https://github.com/hpcgarage/pyboot-g2s3/blob/master/supplemental/eps-example--small.png?raw=1)\n",
        "\n",
        "In this picture, suppose the minimum density parameter is $s=3$ points. Thus, only the $\\epsilon$-neighborhoods centered at 1, 3, and 6 are core points, since these are the only points that include at least $s=3$ points. For instance, $N_\\epsilon(1) = \\{0, 1, 3, 7\\}$, making it a core point since its neighborhood has four (4) points, whereas $N_\\epsilon(4) = \\{3, 4\\}$ is not a core point since its neighborhood has just two (2) points."
      ]
    },
    {
      "cell_type": "markdown",
      "metadata": {
        "nbgrader": {
          "grade": false,
          "locked": true,
          "solution": false
        },
        "id": "C-hPdxOqTu2i"
      },
      "source": [
        "**Exercise 5** (4 points). Implement the \"cluster growth\" procedure described above in the function, `expand_cluster()`, below.\n",
        "\n",
        "To simplify your task, we will **give you all the lines of code that you need.** However, you need to figure out in what order these lines must execute, as well as how to indent them!\n",
        "\n",
        "The signature of the function is:\n",
        "\n",
        "```python\n",
        "def expand_cluster (p, neighbors, core_set, visited, assignment):\n",
        "    ...\n",
        "```\n",
        "\n",
        "Its parameters are:\n",
        "\n",
        "- `p` is the _index_ of a starting core point. The caller must guarantee that it is indeed a core point, and furthermore, that it has been assigned to some cluster. (See below.)\n",
        "- `neighbors[:]` is a list of $\\epsilon$-neighborhoods, given as Python sets. For instance, `neighbors[p]` is a set of indices of all points in the neighborhood of `p`. It will have been computed from `find_neighbors()` above.\n",
        "- `core_set` is a Python set containing the indices of all core points. That is, the expression, **`i in core_set`**, is true only if `i` is indeed a core point.\n",
        "- `visited` is another Python set containing the indices of all points that have already been visited. That is, the expression **`i in visited`** should be `True` only if `i` has been visited. Thus, your `expand_cluster()` function should update this set when visiting any previously unvisited point.\n",
        "- `assignment` is a Python dictionary. The key is the index of a point; the value is the cluster label to which that point has been assigned. Consequently, if a point `i` does not yet have any cluster assignment, then the expression, **`i in assignment`**, will be **`False`**. Your `expand_cluster()` function should update cluster assignments by updating this dictionary.\n",
        "\n",
        "The skeleton of `expand_cluster()` does everything up to and including Step 4 of the procedure above. It first initializes the reachable set as a Python set, `reachable`, containing the neighbors of `p`. It then removes one of those reachable points, storing it in `q`. You just need to perform steps 5-7. In fact, we will even give you all of the lines of code that you need! But you have to to incorporate them into the skeleton, ordered and indented correctly.\n",
        "\n",
        "```python\n",
        "assignment[q] = assignment[p]\n",
        "if q in core_set:\n",
        "if q not in assignment:\n",
        "if q not in visited:\n",
        "reachable |= neighbors[q]\n",
        "visited.add (q)\n",
        "```"
      ]
    },
    {
      "cell_type": "code",
      "metadata": {
        "nbgrader": {
          "grade": false,
          "grade_id": "expand_cluster",
          "locked": false,
          "solution": true
        },
        "id": "YFxEQd1dTu2i"
      },
      "source": [
        "def expand_cluster (p, neighbors, core_set, visited, assignment):\n",
        "    # Assume the caller performs Steps 1 and 2 of the procedure.\n",
        "    # That means 'p' must be a core point that is part of a cluster.\n",
        "    assert (p in core_set) and (p in visited) and (p in assignment)\n",
        "    \n",
        "    reachable = set (neighbors[p])  # Step 3\n",
        "    while reachable:\n",
        "        q = reachable.pop () # Step 4\n",
        "        \n",
        "        # Put your reordered and correctly indented statements here:\n",
        "        ###\n",
        "        ### YOUR CODE HERE\n",
        "        ###\n",
        "        \n",
        "    # This procedure does not return anything\n",
        "    # except via updates to `visited` and\n",
        "    # `assignment`."
      ],
      "execution_count": null,
      "outputs": []
    },
    {
      "cell_type": "code",
      "metadata": {
        "nbgrader": {
          "grade": true,
          "grade_id": "expand_cluster_test",
          "locked": true,
          "points": 4,
          "solution": false
        },
        "id": "kTiGKBMaTu2j"
      },
      "source": [
        "# This test is based on the illustration above.\n",
        "p_test = 3\n",
        "neighbors_test = [set ([0, 1]),\n",
        "                  set ([0, 1, 3, 7]),\n",
        "                  set ([2, 3]),\n",
        "                  set ([1, 2, 3, 4, 6]),\n",
        "                  set ([3, 4]),\n",
        "                  set ([5]),\n",
        "                  set ([3, 6, 7]),\n",
        "                  set ([1, 7])\n",
        "                 ]\n",
        "core_set_test = set ([1, 3, 6])\n",
        "visited_test = set ([p_test])\n",
        "assignment_test = {p_test: 0}\n",
        "expand_cluster (p_test, neighbors_test, core_set_test,\n",
        "                visited_test, assignment_test)\n",
        "assert visited_test == set ([0, 1, 2, 3, 4, 6, 7]) # All but 5\n",
        "assert set (assignment_test.keys ()) == visited_test\n",
        "assert set (assignment_test.values ()) == set ([0])\n",
        "\n",
        "print (\"\\n(Passed!)\")"
      ],
      "execution_count": null,
      "outputs": []
    },
    {
      "cell_type": "markdown",
      "metadata": {
        "nbgrader": {
          "grade": false,
          "locked": true,
          "solution": false
        },
        "id": "zgCMiIiATu2j"
      },
      "source": [
        "### Putting it all together\n",
        "\n",
        "If you've successfully completed all steps above, then you have everything you need to run the final DBSCAN algorithm, which we've provided below. The second code cell below shows a picture of the clusters discovered for a particular setting of neighborhood size, $\\epsilon$, and density threshold, $s$.\n",
        "\n",
        "And there is **no additional code for you to write below**! However, you should make sure the remaining cells execute without error."
      ]
    },
    {
      "cell_type": "code",
      "metadata": {
        "id": "Z1Axuh7PTu2k"
      },
      "source": [
        "def dbscan (eps, s, X):\n",
        "    clusters = []\n",
        "    point_to_cluster = {}\n",
        "    \n",
        "    neighbors = find_neighbors (eps, X)\n",
        "    core_set = find_core_points (s, neighbors)\n",
        "    \n",
        "    assignment = {}\n",
        "    next_cluster_id = 0\n",
        "\n",
        "    visited = set ()\n",
        "    for i in core_set: # for each core point i\n",
        "        if i not in visited:\n",
        "            visited.add (i) # Mark i as visited\n",
        "            assignment[i] = next_cluster_id\n",
        "            expand_cluster (i, neighbors, core_set,\n",
        "                            visited, assignment)\n",
        "            next_cluster_id += 1\n",
        "\n",
        "    return assignment, core_set"
      ],
      "execution_count": null,
      "outputs": []
    },
    {
      "cell_type": "code",
      "metadata": {
        "id": "nOLkCkRVTu2l"
      },
      "source": [
        "assignment, core_set = dbscan (0.5, 10, X)\n",
        "\n",
        "print (\"Number of core points:\", len (core_set))\n",
        "print (\"Number of clusters:\", max (assignment.values ()))\n",
        "print (\"Number of unclassified points:\", len (X) - len (assignment))\n",
        "\n",
        "def plot_labels (df, labels):\n",
        "    df_labeled = df.copy ()\n",
        "    df_labeled['label'] = labels\n",
        "    make_scatter_plot2 (df_labeled)\n",
        "\n",
        "labels = [-1] * len (X)\n",
        "for i, c in assignment.items ():\n",
        "    labels[i] = c\n",
        "plot_labels (crater, labels)\n",
        "\n",
        "with open (fn('dbscan_soln.csv'), 'rt') as fp:\n",
        "    num_cores, num_clusters, num_outliers = fp.read ().split (',')\n",
        "    assert int (num_cores) == len (core_set)\n",
        "    assert int (num_clusters) == max (assignment.values ())\n",
        "    assert int (num_outliers) == (len (X) - len (assignment))\n",
        "print (\"\\n(Passed!)\")"
      ],
      "execution_count": null,
      "outputs": []
    },
    {
      "cell_type": "markdown",
      "metadata": {
        "collapsed": true,
        "nbgrader": {
          "grade": false,
          "locked": true,
          "solution": false
        },
        "id": "eF8mSCupTu2m"
      },
      "source": [
        "**Fin!** If you've reached this point and all tests above pass, you are ready to submit your solution to this problem. Don't forget to save you work prior to submitting."
      ]
    }
  ]
}