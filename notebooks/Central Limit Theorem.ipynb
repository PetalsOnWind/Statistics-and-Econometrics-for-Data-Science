{
 "cells": [
  {
   "cell_type": "markdown",
   "metadata": {},
   "source": [
    "# Central Limit Theorem\n",
    "\n",
    "The central limit theorem (CLT) states that the distribution of sample approximates a normal distribution (also known as a “bell curve”) as the sample size becomes larger, assuming that all samples are identical in size, and regardless of the population distribution shape.<br>\n",
    "\n",
    "The more samples one takes, the more the graphed results take the shape of a normal distribution.<br>\n",
    "\n",
    "<b>Use of CLT : </b><br>Central Limit Theorem exhibits a phenomenon where the average of the sample means and standard deviations equal the population mean and standard deviation, which is extremely useful in accurately predicting the characteristics of populations.<br>\n",
    "\n",
    "<b>Assumptions of CLT : </b><br>\n",
    "<li>Sampling procedure must be random</li>\n",
    "<li>Samples are to be independent among each other</li>\n",
    "<li>Sample size should not be more than 10% of the population when sampling is done without replacement</li>\n",
    "<li>Sample should be sufficiently large</li>\n",
    "\n",
    "    \n",
    "<p>If these assumptions are considered true, the CLT allows you to make inferences about your initial population. Furthermore, the larger the size of your samples, the more evident will be the bell-shape of your sample mean distribution.</p>\n",
    "\n",
    "\n",
    "<b>Example : </b><br>Say, for example, an investor wishes to analyze the overall return for a stock index that comprises 1,000 equities. In this scenario, that investor may simply study a random sample of stocks, to cultivate estimated returns of the total index. At least 30 randomly selected stocks, across various sectors, must be sampled, for the central limit theorem to hold. Furthermore, previously-selected stocks must be swapped out with different names, to help eliminate bias.\n",
    "\n"
   ]
  },
  {
   "cell_type": "markdown",
   "metadata": {},
   "source": [
    "In order to appreciate thsi theorem, Let's visualize it<br>\n",
    "<p>Let's create a random samples of  womens's weight (by assuming the range between 60 and 90 kg's), each of size n=50<br>\n",
    "    Now we run this simulation multiple times and see whether the sample means distribution resembles a Normal distribution</p>"
   ]
  },
  {
   "cell_type": "code",
   "execution_count": 21,
   "metadata": {},
   "outputs": [],
   "source": [
    "#Importing nessesary libraries\n",
    "import numpy as np\n",
    "import matplotlib.pyplot as plt"
   ]
  },
  {
   "cell_type": "markdown",
   "metadata": {},
   "source": [
    "**Creating Data Set**"
   ]
  },
  {
   "cell_type": "code",
   "execution_count": 22,
   "metadata": {},
   "outputs": [
    {
     "name": "stdout",
     "output_type": "stream",
     "text": [
      "[65 71 72 68 69 71 65 75 60 76 61 72 67 73 88 66 85 78 80 65 78 80 71 88\n",
      " 70 88 89 74 78 64 83 83 69 77 83 60 82 73 69 69 67 89 82 85 61 60 88 77\n",
      " 68 84]\n",
      "The average weight is 74.32 kg\n"
     ]
    }
   ],
   "source": [
    "# seed the random number generator, so that the experiment is #replicable\n",
    "seed(1)\n",
    "# Generating the sample of women's weight\n",
    "weights = np.random.randint(60, 90, 50)\n",
    "print(weights)\n",
    "print('The average weight is {} kg'.format(mean(weights)))"
   ]
  },
  {
   "cell_type": "markdown",
   "metadata": {},
   "source": [
    "**Let's Repeat the simulation for 1000 times**"
   ]
  },
  {
   "cell_type": "code",
   "execution_count": 23,
   "metadata": {},
   "outputs": [
    {
     "data": {
      "image/png": "[encoded data removed]",
      "text/plain": [
       "<Figure size 432x288 with 1 Axes>"
      ]
     },
     "metadata": {
      "needs_background": "light"
     },
     "output_type": "display_data"
    },
    {
     "name": "stdout",
     "output_type": "stream",
     "text": [
      "The mean of the sample means is 74.54001999999998\n"
     ]
    }
   ],
   "source": [
    "# seed the random number generator\n",
    "seed(1)\n",
    "# calculating the mean of 50 women's weights 1000 times\n",
    "means = [mean(randint(60, 90, 50)) for _i in range(1000)]\n",
    "# plotting the distribution of sample means\n",
    "plt.hist(means,color='b')\n",
    "plt.show()\n",
    "print('The mean of the sample means is {}'.format(mean(means)))\n"
   ]
  },
  {
   "cell_type": "markdown",
   "metadata": {},
   "source": [
    "According, to the Central Limit Theorem, the mean of sample means which is 78.54 should be a good estimate of the real parameter which is unknown "
   ]
  },
  {
   "cell_type": "code",
   "execution_count": 24,
   "metadata": {},
   "outputs": [],
   "source": [
    "#Importing nessesary libraries\n",
    "from pylab import *\n",
    "from scipy.stats import norm\n",
    "import scipy.special as sps"
   ]
  },
  {
   "cell_type": "markdown",
   "metadata": {},
   "source": [
    "## Drawing sample distribution\n",
    "\n",
    "Plotting the distribution for one sample"
   ]
  },
  {
   "cell_type": "code",
   "execution_count": 25,
   "metadata": {},
   "outputs": [],
   "source": [
    "#Function to plot a distribution for one sample\n",
    "#The function takes inputs number of experiments,samples,mu and the distribution name\n",
    "def plot_samples_distribution(no_of_exp, samples, mu, distribution_name):\n",
    "    pltdim = np.math.ceil(np.math.sqrt(no_of_exp))\n",
    "    fig, axs = plt.subplots(pltdim, pltdim,\n",
    "                           figsize=(8,8),\n",
    "                           gridspec_kw = {'hspace':0.2},\n",
    "                           sharex = True, sharey = True)\n",
    "    fig.suptitle('Individual Samples\\' {} Distribution'.format(distribution_name))\n",
    "    fig.text(0.5, 0.04, 'Order values ($)', ha = 'center')\n",
    "    fig.text(0.04, 0.5, 'Number of Customers', ha = 'center', rotation = 'vertical')\n",
    "    axs = axs.flatten()\n",
    "    #iterating through number of experiments\n",
    "    for ii in range(0, no_of_exp):\n",
    "        plt.sca(a[ii])\n",
    "        plt.gca().hist(samples[ii], bins = int(50),\n",
    "                      histtype = 'step',\n",
    "                      label = '$mean = {0:.2f}$'.format(np.mean(samples[ii])),\n",
    "                      range = [0,2*mu])\n",
    "        if no_of_exp < 25 :\n",
    "            plt.gca().set_title('Sample #{0} : average = {1:.2f}'.format(ii+1,np.mean(samples[ii])))\n",
    "        for item in ([axs[ii].title, axs[ii].xaxis.label, axs[ii].yaxis.label]\n",
    "                    +axs[ii].get_xticklables() + axs[ii].get_yticklabels()):\n",
    "            item.set_fontsize(8)"
   ]
  },
  {
   "cell_type": "markdown",
   "metadata": {},
   "source": [
    "## Normal distribution Approximation\n",
    "\n",
    "In the following function takes mean from n samples and approximate it to normal distribution"
   ]
  },
  {
   "cell_type": "code",
   "execution_count": 26,
   "metadata": {},
   "outputs": [],
   "source": [
    "#Function to approximate distribution to normal distribution\n",
    "def clt_normal_approximation(means,no_of_exp):\n",
    "    mu, sd = norm.fit(means)\n",
    "    fig = figure()\n",
    "    #plotting histogram using matplotlib library\n",
    "    plt.hist(means, bins = int(50), histtype = 'step', density = True)\n",
    "    xmin, xmax = plt.xlim()\n",
    "    x = np.linspace(xmin, xmax, 100)\n",
    "    p = norm.pdf(x, mu, sd)\n",
    "    #defining plot parameters\n",
    "    plt.plot(x, p, 'k', linewidth = 1)\n",
    "    plt.axvline(x=mu, color='r', linestyle='--')\n",
    "    #defining title\n",
    "    plt.title('Overall Average of {} samples \\' Average order value'.format(no_of_exp))\n",
    "    plt.xlabel('Average of individual samples\\'s Order value ($)')\n",
    "    print('Mean of samples is {0:.2f}'.format(mu))\n",
    "    print('Standard deviation of the samples is {0:.2f}'.format(sd))\n",
    "    return fig"
   ]
  },
  {
   "cell_type": "markdown",
   "metadata": {},
   "source": [
    "## Different distributions"
   ]
  },
  {
   "cell_type": "markdown",
   "metadata": {},
   "source": [
    "### Binomial Distribution"
   ]
  },
  {
   "cell_type": "markdown",
   "metadata": {},
   "source": [
    "<p>A binomial distribution can be thought of as simply the probability of a SUCCESS or FAILURE outcome in an experiment or survey that is repeated multiple times.<br>\n",
    "There are only two possible outcomes. Head denoting success and tail denoting failure. Therefore, probability of getting a head: p = 0.5 and the probability of failure can be easily computed as: q = 1- p = 0.5.<br>\n",
    "A distribution where only two outcomes are possible, such as success or failure, gain or loss, win or lose and where the probability of success and failure is same for all the trials is called a Binomial Distribution.<br>\n",
    "</p><br>\n",
    "<b><i>Properties of Binomial distribution:</i></b><br>\n",
    "<li>Each trial is independent.</li>\n",
    "    <li>There are only two possible outcomes in a trial- either a success or a failure.</li>\n",
    "    <li>A total number of n identical trials are conducted.</li>\n",
    "    <li>The probability of success and failure is same for all trials. (Trials are identical.)</li>\n",
    "\n",
    "<b><i>The Mathematical representation of Binomial distribution</i></b>\n",
    "\n",
    "$$ p(x) = \\frac{n!}{(n-x)!x!}p^x q^{n-x}\\\\ \n",
    "$$\n",
    "\n",
    "<p><b>Where</b></p>\n",
    "<b>n</b> = The total number of items in the group<br>\n",
    "<b>x</b> = The number of items in the group of the desired type<br>\n",
    "<b>p</b> = The probability that any given item in the group is of the desired type<br>\n",
    "<b>q</b> = The probability that any given item in the group is not of the desired type (Note: q = 1-p )<br>\n",
    "\n",
    "<b><i>Example</i></b><br>\n",
    "60% of people who purchase posh cars are men.  If 10 posh car owners are randomly selected, find the probability that exactly 7 are men.<br>\n",
    "<b>Step-1: </b> First we need to identify ‘n’ and ‘x’ from the problem. Using our sample question, n (the number of randomly selected items—in this case, posh car owners are randomly selected) is 10,  and  X (the number you are asked to “find the probability” for) is 7.<br>\n",
    "<b>Step-2: </b> Figure out the first part of the Formula i.e $$ \\frac{n!}{(n-x)!x!} = \\frac{10!}{(10-7)!7!} $$ which is equal to 120<br> Set this number aside for a momemnt<br>\n",
    "<b>Step-3: </b>Find “p” the probability of success and “q” the probability of failure.<br> We are given p = 60%, or .6  therefore, the probability of failure is 1 – .6 = .4 (40%).<br>\n",
    "p = 0.6 and q = 0.4<br>\n",
    "<b>Step-4: </b>Now, working on next phase of formula $$ p^{x} = 0.6^{7} = 0.02799 $$ <br> Set this number aside while you work the third part of the formula.<br>\n",
    "<b>Step-5: </b>Now, working on last phase of the formula $$ q^{n-x} = 0.4^{10-7} = 0.064 $$ <br>\n",
    "<b>Step-6: </b>Multiply the three answers from steps 2, 4 and 5 together.\n",
    "120  × 0.0279936 × 0.064 = 0.215.<br>\n",
    "The required <b>probability</b> is <b> 0.2</b><br>\n",
    "\n",
    "\n",
    "\n"
   ]
  },
  {
   "cell_type": "markdown",
   "metadata": {},
   "source": [
    "<b><i>Lets visualize Binomial distribution</i></b><br>\n",
    "Let's try to compute it for a range and plot it for 10 trails, and p = 0.1<br>\n",
    "scipy.stats.binom.pmf gives the probability mass function for the binomial distribution.<br>"
   ]
  },
  {
   "cell_type": "code",
   "execution_count": 32,
   "metadata": {},
   "outputs": [
    {
     "data": {
      "text/plain": [
       "[<matplotlib.lines.Line2D at 0x2231fd965e0>]"
      ]
     },
     "execution_count": 32,
     "metadata": {},
     "output_type": "execute_result"
    },
    {
     "data": {
      "image/png": "[encoded data removed]",
      "text/plain": [
       "<Figure size 432x288 with 1 Axes>"
      ]
     },
     "metadata": {
      "needs_background": "light"
     },
     "output_type": "display_data"
    }
   ],
   "source": [
    "import scipy, scipy.stats\n",
    "x = np.linspace(0,10,11)\n",
    "pmf = scipy.stats.binom.pmf(x,10,0.1)\n",
    "pylab.plot(x,pmf)"
   ]
  },
  {
   "cell_type": "code",
   "execution_count": 28,
   "metadata": {},
   "outputs": [],
   "source": [
    "#Binomial Distribution\n",
    "#It takes inputs, number of experiments, sample size,n, probability of success and size of population\n",
    "def binomial_experiment_clt(no_of_exp, sample_size, n, p, size_of_population=1000, show_all = False):\n",
    "    samples = []\n",
    "    means = []\n",
    "    mu = n*p\n",
    "    population = np.random.binomial(n,p,size_of_population)\n",
    "    #Iterating through number of experiments\n",
    "    for ii in range(0,no_of_exp):\n",
    "        samples.append(np.random.choice(population,sample_size, replace = True))\n",
    "        means.append(np.mean(samples[ii]))\n",
    "    \n",
    "    if show_all:\n",
    "        plot_samples_distribution(no_of_exp, samples, mu, 'binomial')\n",
    "    return means"
   ]
  },
  {
   "cell_type": "code",
   "execution_count": 29,
   "metadata": {},
   "outputs": [],
   "source": [
    "#Exponential Distribution\n",
    "#It takes inputs, number of experiments, sample size, mu\n",
    "def exponential_experiment_clt(no_of_exp, sample_size, mu, show_all = False):\n",
    "    means = []\n",
    "    samples = []\n",
    "    #Iterating through number of experiments\n",
    "    for ii in range(0,no_of_exp):\n",
    "        samples.append(np.random.exponential(mu, sample_size))\n",
    "        means.append(np.mean(samples[ii]))\n",
    "        \n",
    "    if show_all:\n",
    "        plot_samples_distribution(no_of_exp, sample_size, mu, 'exponential')\n",
    "    return means"
   ]
  },
  {
   "cell_type": "code",
   "execution_count": 30,
   "metadata": {},
   "outputs": [],
   "source": [
    "#Poisson Distribution\n",
    "#It takes inputs, number of experiments, sample size, lambda(mean), size of population\n",
    "def poisson_experiment_clt(no_of_exp, sample_size, lam, size_of_population=1000, show_all = False):\n",
    "    means = []\n",
    "    samples = []\n",
    "    mu = lam\n",
    "    population = np.random.poisson(lam, size_of_population)\n",
    "    #Iterating through number of experiments\n",
    "    for ii in range(0,no_of_exp):\n",
    "        samples.append(np.random.choice(population, sample_size, replace=True))\n",
    "        means.append(np.mean(samples[ii]))\n",
    "        \n",
    "    if show_all:\n",
    "        plot_samples_distribution(no_of_exp, sample_size, mu, 'poisson')\n",
    "    return means"
   ]
  },
  {
   "cell_type": "markdown",
   "metadata": {},
   "source": [
    "### Here we interpret how CLT work for a different distribution\n",
    "\n",
    "Here we consider Exponential distribution "
   ]
  },
  {
   "cell_type": "code",
   "execution_count": 31,
   "metadata": {},
   "outputs": [
    {
     "name": "stdout",
     "output_type": "stream",
     "text": [
      "Mean of samples is 50.02\n",
      "Standard deviation of the samples is 1.54\n"
     ]
    },
    {
     "data": {
      "image/png": "[encoded data removed]",
      "text/plain": [
       "<Figure size 432x288 with 1 Axes>"
      ]
     },
     "metadata": {
      "needs_background": "light"
     },
     "output_type": "display_data"
    }
   ],
   "source": [
    "means_1000_samples_5000_exp = exponential_experiment_clt(5000,1000,50,False)\n",
    "fig_exp_1000 = clt_normal_approximation(means_1000_samples_5000_exp,5000)"
   ]
  },
  {
   "cell_type": "markdown",
   "metadata": {},
   "source": [
    "From the above plot we can interpret, As we input larger sample it approximates to \"Bell Shape\""
   ]
  },
  {
   "cell_type": "markdown",
   "metadata": {},
   "source": [
    "Documentation:<br>\n",
    "<a href=\"https://matplotlib.org/3.3.3/api/_as_gen/matplotlib.pyplot.html\" title=\"matplotlib.pyplot\">plt()</a><br>\n",
    "<a href=\"https://matplotlib.org/3.3.3/api/_as_gen/matplotlib.pyplot.hist.html#matplotlib.pyplot.hist\" title=\"matplotlib.pyplot.hist\">plt.hist()</a><br>\n",
    "<a href=\"https://docs.scipy.org/doc/scipy/reference/generated/scipy.stats.norm.html\" title=\"scipy.stats.norm\">norm()</a><br>\n",
    "<a href=\"https://docs.scipy.org/doc/scipy/reference/special.html\" title=\"scipy.special\">sps</a><br>"
   ]
  },
  {
   "cell_type": "code",
   "execution_count": null,
   "metadata": {},
   "outputs": [],
   "source": []
  }
 ],
 "metadata": {
  "kernelspec": {
   "display_name": "Python 3",
   "language": "python",
   "name": "python3"
  },
  "language_info": {
   "codemirror_mode": {
    "name": "ipython",
    "version": 3
   },
   "file_extension": ".py",
   "mimetype": "text/x-python",
   "name": "python",
   "nbconvert_exporter": "python",
   "pygments_lexer": "ipython3",
   "version": "3.9.1"
  }
 },
 "nbformat": 4,
 "nbformat_minor": 4
}
