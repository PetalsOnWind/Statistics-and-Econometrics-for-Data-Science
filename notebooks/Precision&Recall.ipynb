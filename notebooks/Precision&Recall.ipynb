{
 "cells": [
  {
   "cell_type": "code",
   "execution_count": 4,
   "metadata": {},
   "outputs": [],
   "source": [
    "###################\n",
    "# Peformance Analysis\n",
    "#  After having played with the data and using sophisticated algorithms, you finally develop a model.\n",
    "#  But how to analyse and evaluate and rate the performance of your model.\n",
    "#  There are various performance metrics depending on the type of your problem(classification,regression,etc.)\n",
    "#  We look into some important figure of merits for a classification(binary) model.\n",
    "###################\n",
    "import pandas as pd\n",
    "import numpy as np\n",
    "import matplotlib.pyplot as plt\n",
    "from sklearn.linear_model import LinearRegression\n",
    "%matplotlib inline"
   ]
  },
  {
   "cell_type": "markdown",
   "metadata": {},
   "source": [
    "<h3>Outcomes and the Confusion Matrix"
   ]
  },
  {
   "cell_type": "code",
   "execution_count": 9,
   "metadata": {},
   "outputs": [],
   "source": [
    "# For a binary classification algorithm, the prediction by the model on a test data example\n",
    "# can relate to the actual outcome in one of the following ways : \n",
    "#   a) Actual : 1, Predicted : 1 --- True Positive TP\n",
    "#   b) Actual : 0, Predicted : 1 --- False Postive FP\n",
    "#   c) Actual : 1, Predicted : 0 --- False Negative FN\n",
    "#   d) Actual : 0, Predicted : 0 --- True Negative TN\n",
    "# \n",
    "# The number of TPs, FPs, TNs and FNs are counted for the entire set. We compile these results\n",
    "# in a tabular form in the CONFUSION MATRIX.\n",
    "#                          Actual\n",
    "#                       True  |  False\n",
    "#                    -------------------\n",
    "#              True  |  #TP   |   #FP  |\n",
    "#       Pred. --------------------------\n",
    "#              False |  #FN   |   #TN  |\n",
    "#                    -------------------"
   ]
  },
  {
   "cell_type": "code",
   "execution_count": null,
   "metadata": {},
   "outputs": [],
   "source": [
    "# "
   ]
  },
  {
   "cell_type": "code",
   "execution_count": null,
   "metadata": {},
   "outputs": [],
   "source": []
  }
 ],
 "metadata": {
  "kernelspec": {
   "display_name": "Python 3",
   "language": "python",
   "name": "python3"
  },
  "language_info": {
   "codemirror_mode": {
    "name": "ipython",
    "version": 3
   },
   "file_extension": ".py",
   "mimetype": "text/x-python",
   "name": "python",
   "nbconvert_exporter": "python",
   "pygments_lexer": "ipython3",
   "version": "3.8.5"
  }
 },
 "nbformat": 4,
 "nbformat_minor": 4
}
