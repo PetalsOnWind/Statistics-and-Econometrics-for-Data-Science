{
 "cells": [
  {
   "cell_type": "markdown",
   "metadata": {},
   "source": [
    "# ANALYSIS OF VARIANCE (ANOVA)"
   ]
  },
  {
   "cell_type": "markdown",
   "metadata": {},
   "source": [
    "### What is one-way ANOVA?"
   ]
  },
  {
   "cell_type": "markdown",
   "metadata": {},
   "source": [
    "The one-way analysis of variance (ANOVA) is used to determine whether there are any statistically significant differences between the means of three or more independent (unrelated) groups."
   ]
  },
  {
   "cell_type": "markdown",
   "metadata": {},
   "source": [
    "## Explaination by Implementation"
   ]
  },
  {
   "cell_type": "markdown",
   "metadata": {},
   "source": [
    "Throughout this notebook, We will follow an example on price across different bookstores for used harry potter book. Imagine that we have purchased books many times for our friends at different stores — A, B, C, D and E — and we have calculated prices."
   ]
  },
  {
   "cell_type": "markdown",
   "metadata": {},
   "source": [
    "### 1. Data Generation"
   ]
  },
  {
   "cell_type": "code",
   "execution_count": 35,
   "metadata": {},
   "outputs": [],
   "source": [
    "import pandas as pd\n",
    "from numpy import random"
   ]
  },
  {
   "cell_type": "code",
   "execution_count": 39,
   "metadata": {},
   "outputs": [
    {
     "name": "stdout",
     "output_type": "stream",
     "text": [
      "[array([11.94065401, 13.48856864, 13.45765365, 13.07918739,  9.17944793,\n",
      "       12.45878791, 10.89340471]), array([11.59255473, 12.28975733,  9.96925109, 10.36158201, 12.59302967,\n",
      "       12.91501805, 13.2516382 ]), array([12.87622447,  9.18332153,  9.58346868, 12.7564035 , 10.19609108,\n",
      "       10.27403007, 13.28812766]), array([13.74889513, 11.80843429,  9.8939026 , 12.85125967, 11.4619052 ,\n",
      "       12.15626533, 13.19748961]), array([11.30519698, 11.48970037, 12.39705559, 12.25392957, 10.34397619,\n",
      "        9.33662333, 12.85722569])]\n"
     ]
    }
   ],
   "source": [
    "L = ['A','B','C','D','E']\n",
    "\n",
    "random.seed(20)\n",
    "for i in range(len(L)):\n",
    "    L[i]=(random.uniform(9,14, size=(7)))\n",
    "    \n",
    "print(L)"
   ]
  },
  {
   "cell_type": "code",
   "execution_count": 40,
   "metadata": {},
   "outputs": [],
   "source": [
    "all_price = []\n",
    "store = []\n",
    "for i in range(len(L)):\n",
    "    all_price.extend(L[i])\n",
    "    store.extend(chr(65+i)*len(L[i]))"
   ]
  },
  {
   "cell_type": "code",
   "execution_count": 41,
   "metadata": {},
   "outputs": [
    {
     "data": {
      "text/html": [
       "<div>\n",
       "<style scoped>\n",
       "    .dataframe tbody tr th:only-of-type {\n",
       "        vertical-align: middle;\n",
       "    }\n",
       "\n",
       "    .dataframe tbody tr th {\n",
       "        vertical-align: top;\n",
       "    }\n",
       "\n",
       "    .dataframe thead th {\n",
       "        text-align: right;\n",
       "    }\n",
       "</style>\n",
       "<table border=\"1\" class=\"dataframe\">\n",
       "  <thead>\n",
       "    <tr style=\"text-align: right;\">\n",
       "      <th></th>\n",
       "      <th>store</th>\n",
       "      <th>price</th>\n",
       "    </tr>\n",
       "  </thead>\n",
       "  <tbody>\n",
       "    <tr>\n",
       "      <th>0</th>\n",
       "      <td>A</td>\n",
       "      <td>11.940654</td>\n",
       "    </tr>\n",
       "    <tr>\n",
       "      <th>1</th>\n",
       "      <td>A</td>\n",
       "      <td>13.488569</td>\n",
       "    </tr>\n",
       "    <tr>\n",
       "      <th>2</th>\n",
       "      <td>A</td>\n",
       "      <td>13.457654</td>\n",
       "    </tr>\n",
       "    <tr>\n",
       "      <th>3</th>\n",
       "      <td>A</td>\n",
       "      <td>13.079187</td>\n",
       "    </tr>\n",
       "    <tr>\n",
       "      <th>4</th>\n",
       "      <td>A</td>\n",
       "      <td>9.179448</td>\n",
       "    </tr>\n",
       "  </tbody>\n",
       "</table>\n",
       "</div>"
      ],
      "text/plain": [
       "  store      price\n",
       "0     A  11.940654\n",
       "1     A  13.488569\n",
       "2     A  13.457654\n",
       "3     A  13.079187\n",
       "4     A   9.179448"
      ]
     },
     "execution_count": 41,
     "metadata": {},
     "output_type": "execute_result"
    }
   ],
   "source": [
    "data = pd.DataFrame({'store': store, 'price': all_price})\n",
    "data.head()"
   ]
  },
  {
   "cell_type": "code",
   "execution_count": 42,
   "metadata": {},
   "outputs": [
    {
     "data": {
      "text/html": [
       "<div>\n",
       "<style scoped>\n",
       "    .dataframe tbody tr th:only-of-type {\n",
       "        vertical-align: middle;\n",
       "    }\n",
       "\n",
       "    .dataframe tbody tr th {\n",
       "        vertical-align: top;\n",
       "    }\n",
       "\n",
       "    .dataframe thead th {\n",
       "        text-align: right;\n",
       "    }\n",
       "</style>\n",
       "<table border=\"1\" class=\"dataframe\">\n",
       "  <thead>\n",
       "    <tr style=\"text-align: right;\">\n",
       "      <th></th>\n",
       "      <th>store</th>\n",
       "      <th>price</th>\n",
       "    </tr>\n",
       "  </thead>\n",
       "  <tbody>\n",
       "    <tr>\n",
       "      <th>0</th>\n",
       "      <td>A</td>\n",
       "      <td>12.071101</td>\n",
       "    </tr>\n",
       "    <tr>\n",
       "      <th>1</th>\n",
       "      <td>B</td>\n",
       "      <td>11.853262</td>\n",
       "    </tr>\n",
       "    <tr>\n",
       "      <th>2</th>\n",
       "      <td>C</td>\n",
       "      <td>11.165381</td>\n",
       "    </tr>\n",
       "    <tr>\n",
       "      <th>3</th>\n",
       "      <td>D</td>\n",
       "      <td>12.159736</td>\n",
       "    </tr>\n",
       "    <tr>\n",
       "      <th>4</th>\n",
       "      <td>E</td>\n",
       "      <td>11.426244</td>\n",
       "    </tr>\n",
       "  </tbody>\n",
       "</table>\n",
       "</div>"
      ],
      "text/plain": [
       "  store      price\n",
       "0     A  12.071101\n",
       "1     B  11.853262\n",
       "2     C  11.165381\n",
       "3     D  12.159736\n",
       "4     E  11.426244"
      ]
     },
     "execution_count": 42,
     "metadata": {},
     "output_type": "execute_result"
    }
   ],
   "source": [
    "df = data.groupby('store').mean().reset_index()\n",
    "df"
   ]
  },
  {
   "cell_type": "markdown",
   "metadata": {},
   "source": [
    "The average price per store give a first insight in which store is cheaper — in this case, store C:"
   ]
  },
  {
   "cell_type": "markdown",
   "metadata": {},
   "source": [
    "### How does ANOVA work?"
   ]
  },
  {
   "cell_type": "markdown",
   "metadata": {},
   "source": [
    "- The ANOVA model starts by estimating the total amount of variation that exists in the price of book across various stores (this is why it is called Analysis of Variance).\n",
    "\n",
    "- Looking at our sample, we could say that price ranges from 9.1 to 13.5 dollars. \n",
    "\n",
    "- If we ignore the information about the store, the best estimation of price we could give for new book is between 9.1 and 13. 5 dollars. Let’s for now call this total variation."
   ]
  },
  {
   "cell_type": "markdown",
   "metadata": {},
   "source": [
    "### 2. Data Visualisation"
   ]
  },
  {
   "cell_type": "code",
   "execution_count": 44,
   "metadata": {},
   "outputs": [
    {
     "data": {
      "image/png": "[encoded data removed]",
      "text/plain": [
       "<Figure size 720x360 with 2 Axes>"
      ]
     },
     "metadata": {},
     "output_type": "display_data"
    }
   ],
   "source": [
    "import seaborn as sns\n",
    "import numpy as np\n",
    "import matplotlib.pyplot as plt\n",
    "\n",
    "fig, (ax1,ax2) = plt.subplots(1,2,figsize=(10,5))\n",
    "sns.boxplot(y=data[\"price\"],ax=ax1)\n",
    "sns.boxplot(x=data['store'],y=data[\"price\"],ax=ax2)\n",
    "ax2.axes.yaxis.set_ticks([])\n",
    "ax2.set_ylabel('')\n",
    "ax1.set_xlabel('Total Average Price')\n",
    "plt.show()"
   ]
  },
  {
   "cell_type": "code",
   "execution_count": 45,
   "metadata": {},
   "outputs": [
    {
     "name": "stdout",
     "output_type": "stream",
     "text": [
      "A_std : 1.573950682900348\n",
      "B_std : 1.2690640157353807\n",
      "C_std : 1.7382667178916789\n",
      "D_std : 1.2796456574698947\n",
      "E_std : 1.2404128590595018\n"
     ]
    },
    {
     "data": {
      "image/png": "[encoded data removed]",
      "text/plain": [
       "<Figure size 720x360 with 1 Axes>"
      ]
     },
     "metadata": {},
     "output_type": "display_data"
    }
   ],
   "source": [
    "x = ['A','B','C','D','E']\n",
    "comp_dict = {}\n",
    "\n",
    "#Assigns each score series to a dictionary key\n",
    "for comp in x:\n",
    "    comp_dict[comp] = data[data['store'] == comp]['price']\n",
    "\n",
    "\n",
    "y = []\n",
    "yerror = []\n",
    "\n",
    "#Assigns the mean score and 95% confidence limit to each store\n",
    "for comp in x:\n",
    "    y.append(comp_dict[comp].mean())\n",
    "    yerror.append(1.96*comp_dict[comp].std()/np.sqrt(comp_dict[comp].shape[0]))    \n",
    "    print(comp + '_std : {}'.format(comp_dict[comp].std()))\n",
    "       \n",
    "sns.set(font_scale=1.5)\n",
    "fig = plt.figure(figsize=(10,5))\n",
    "ax = sns.barplot(df['store'], df['price'], yerr=yerror)\n",
    "ax.set_ylabel('Average Price')\n",
    "plt.show()"
   ]
  },
  {
   "cell_type": "markdown",
   "metadata": {},
   "source": [
    "From our data exploration, we can see that the average Price are bit different for store C from the rest. We are interested in knowing if this is caused by random variation in data, or if there is an underlying cause.\n",
    "\n",
    "we are going to use the 1-way ANOVA test anyway just to understand the concepts."
   ]
  },
  {
   "cell_type": "markdown",
   "metadata": {},
   "source": [
    "### Between-Group Variation is Explained by our Variable Company\n",
    "\n",
    "If we add the variable store in the graph, we see that if we know which store we purchase book from, we can give a more precise range of prices.\n",
    "\n",
    "- If we purchase from store A, it takes between 9.1 and 12.45 dollars.\n",
    "- If we purchase from store B, it takes between 9.9 and 13.2 dollars.\n",
    "- If we purchase from store C, it takes between 9.1 and 13.1 dollars.\n",
    "- If we purchase from store D, it takes between 9.8 and 12.2 dollars.\n",
    "- If we purchase from store D, it takes between 9.3 and 12.3 dollars.\n",
    "\n",
    "This phenomenon is due to the Between-Group variation: a quantification of the variation explained by our variable.\n"
   ]
  },
  {
   "cell_type": "markdown",
   "metadata": {},
   "source": [
    "### Within-Group Variation is not Explained by our Variable Store\n",
    "\n",
    "However, there is also some part of variation that cannot be explained by our variable ‘store’: we still don’t know why there is a difference between 9.1 and 13.1 in store C’s price and we would need more variables to explain this.\n",
    "\n",
    "Since we do not have those new variables, the variation remains unexplained and is called the within-group variation."
   ]
  },
  {
   "cell_type": "markdown",
   "metadata": {},
   "source": [
    "### The Null and Alternative Hypothesis\n",
    "\n",
    "- There are no significant differences between the store's mean Prices.\n",
    "\n",
    "$$ H_{0}: μ_{1}=μ_{2}=μ_{3}=μ_{4}=μ_{5}$$\n",
    "\n",
    "- There is a significant difference between the store's mean Prices.\n",
    "\n",
    "$$ H_{a}: μ_{i} ≠ μ_{j} $$\n",
    "\n",
    "Where μi and μj can be the mean of any store. If there is at least one store with a significant difference with another store, the null hypothesis will be rejected."
   ]
  },
  {
   "cell_type": "markdown",
   "metadata": {},
   "source": [
    "### ANOVA: hypothesis test for group differences\n",
    "When the total variation is split in two, a hypothesis test is applied to find out whether the observed differences in our sample of 35 is significant:\n",
    "\n",
    "- Is one store giving book at less price, or is this random noise due to the sampling effect?\n",
    "\n",
    "We need a statistical test to give us this answer: the ANOVA F-test, which is dissected in the rest of this article."
   ]
  },
  {
   "cell_type": "markdown",
   "metadata": {},
   "source": [
    "### Formula involved in ANOVA\n",
    "\n",
    "Similar to the t-test, we can calculate a score for the ANOVA. Then we can look up the score in the F-distribution and obtain a p-value.\n",
    "\n",
    "- The F-statistic is defined as follows:\n",
    "\n",
    "$$F = \\frac{MS_{b}}{MS_{w}}$$\n",
    "\n",
    "$$F = \\frac{SS_{b}}{K-1}$$\n",
    "\n",
    "$$SS_{b} = \\frac{SS_{w}}{N-K}$$\n",
    "\n",
    "$$SS_{b} = n_{k}\\sum (\\bar{x_{k}}-\\bar{x_{G}})$$\n",
    "\n",
    "$$SS_{w} = sum (x_{i}-\\bar{x_{G}})^{2}$$\n",
    "\n",
    "Where $MS_{b}$ is the estimated variance between groups and $MS_{w}$ is the estimated variance within groups, $\\bar{x_{k}}$ is the mean within each group, $n_{k}$ is the sample size for each group, $x_{i}$ is the individual data point, and $\\bar{x_{G}}$ is the total mean, $SS_{b}$ is sum of squares between the groups and $SS_{w}$ is sum of squares within the groups\n",
    "\n",
    "This is quite a lot of math, fortunately scipy has a function that plugs in all the values for us."
   ]
  },
  {
   "cell_type": "markdown",
   "metadata": {},
   "source": [
    "### 3. 1-Way ANOVA Using StatsModels"
   ]
  },
  {
   "cell_type": "code",
   "execution_count": 46,
   "metadata": {},
   "outputs": [],
   "source": [
    "import statsmodels.api as sm\n",
    "from statsmodels.formula.api import ols"
   ]
  },
  {
   "cell_type": "code",
   "execution_count": 47,
   "metadata": {},
   "outputs": [
    {
     "name": "stdout",
     "output_type": "stream",
     "text": [
      "            df     sum_sq   mean_sq        F    PR(>F)\n",
      "store      4.0   5.090022  1.272506  0.61859  0.652701\n",
      "Residual  30.0  61.713195  2.057106      NaN       NaN\n"
     ]
    }
   ],
   "source": [
    "lm = ols('price ~ store',data=data).fit()\n",
    "table = sm.stats.anova_lm(lm)\n",
    "print(table)"
   ]
  },
  {
   "cell_type": "markdown",
   "metadata": {},
   "source": [
    "#### Pair-wise comparision"
   ]
  },
  {
   "cell_type": "code",
   "execution_count": 48,
   "metadata": {},
   "outputs": [
    {
     "data": {
      "text/html": [
       "<div>\n",
       "<style scoped>\n",
       "    .dataframe tbody tr th:only-of-type {\n",
       "        vertical-align: middle;\n",
       "    }\n",
       "\n",
       "    .dataframe tbody tr th {\n",
       "        vertical-align: top;\n",
       "    }\n",
       "\n",
       "    .dataframe thead th {\n",
       "        text-align: right;\n",
       "    }\n",
       "</style>\n",
       "<table border=\"1\" class=\"dataframe\">\n",
       "  <thead>\n",
       "    <tr style=\"text-align: right;\">\n",
       "      <th></th>\n",
       "      <th>coef</th>\n",
       "      <th>std err</th>\n",
       "      <th>t</th>\n",
       "      <th>P&gt;|t|</th>\n",
       "      <th>Conf. Int. Low</th>\n",
       "      <th>Conf. Int. Upp.</th>\n",
       "      <th>pvalue-hs</th>\n",
       "      <th>reject-hs</th>\n",
       "    </tr>\n",
       "  </thead>\n",
       "  <tbody>\n",
       "    <tr>\n",
       "      <th>B-A</th>\n",
       "      <td>-0.217839</td>\n",
       "      <td>0.766645</td>\n",
       "      <td>-0.284146</td>\n",
       "      <td>0.778251</td>\n",
       "      <td>-1.783537</td>\n",
       "      <td>1.347859</td>\n",
       "      <td>0.991020</td>\n",
       "      <td>False</td>\n",
       "    </tr>\n",
       "    <tr>\n",
       "      <th>C-A</th>\n",
       "      <td>-0.905720</td>\n",
       "      <td>0.766645</td>\n",
       "      <td>-1.181407</td>\n",
       "      <td>0.246722</td>\n",
       "      <td>-2.471418</td>\n",
       "      <td>0.659979</td>\n",
       "      <td>0.921910</td>\n",
       "      <td>False</td>\n",
       "    </tr>\n",
       "    <tr>\n",
       "      <th>D-A</th>\n",
       "      <td>0.088635</td>\n",
       "      <td>0.766645</td>\n",
       "      <td>0.115615</td>\n",
       "      <td>0.908728</td>\n",
       "      <td>-1.477063</td>\n",
       "      <td>1.654334</td>\n",
       "      <td>0.991020</td>\n",
       "      <td>False</td>\n",
       "    </tr>\n",
       "    <tr>\n",
       "      <th>E-A</th>\n",
       "      <td>-0.644857</td>\n",
       "      <td>0.766645</td>\n",
       "      <td>-0.841141</td>\n",
       "      <td>0.406924</td>\n",
       "      <td>-2.210555</td>\n",
       "      <td>0.920842</td>\n",
       "      <td>0.966671</td>\n",
       "      <td>False</td>\n",
       "    </tr>\n",
       "    <tr>\n",
       "      <th>C-B</th>\n",
       "      <td>-0.687881</td>\n",
       "      <td>0.766645</td>\n",
       "      <td>-0.897261</td>\n",
       "      <td>0.376724</td>\n",
       "      <td>-2.253579</td>\n",
       "      <td>0.877818</td>\n",
       "      <td>0.966671</td>\n",
       "      <td>False</td>\n",
       "    </tr>\n",
       "    <tr>\n",
       "      <th>D-B</th>\n",
       "      <td>0.306474</td>\n",
       "      <td>0.766645</td>\n",
       "      <td>0.399760</td>\n",
       "      <td>0.692165</td>\n",
       "      <td>-1.259224</td>\n",
       "      <td>1.872173</td>\n",
       "      <td>0.991020</td>\n",
       "      <td>False</td>\n",
       "    </tr>\n",
       "    <tr>\n",
       "      <th>E-B</th>\n",
       "      <td>-0.427018</td>\n",
       "      <td>0.766645</td>\n",
       "      <td>-0.556995</td>\n",
       "      <td>0.581663</td>\n",
       "      <td>-1.992716</td>\n",
       "      <td>1.138681</td>\n",
       "      <td>0.987188</td>\n",
       "      <td>False</td>\n",
       "    </tr>\n",
       "    <tr>\n",
       "      <th>D-C</th>\n",
       "      <td>0.994355</td>\n",
       "      <td>0.766645</td>\n",
       "      <td>1.297021</td>\n",
       "      <td>0.204511</td>\n",
       "      <td>-0.571343</td>\n",
       "      <td>2.560053</td>\n",
       "      <td>0.898529</td>\n",
       "      <td>False</td>\n",
       "    </tr>\n",
       "    <tr>\n",
       "      <th>E-C</th>\n",
       "      <td>0.260863</td>\n",
       "      <td>0.766645</td>\n",
       "      <td>0.340266</td>\n",
       "      <td>0.736028</td>\n",
       "      <td>-1.304835</td>\n",
       "      <td>1.826561</td>\n",
       "      <td>0.991020</td>\n",
       "      <td>False</td>\n",
       "    </tr>\n",
       "    <tr>\n",
       "      <th>E-D</th>\n",
       "      <td>-0.733492</td>\n",
       "      <td>0.766645</td>\n",
       "      <td>-0.956756</td>\n",
       "      <td>0.346338</td>\n",
       "      <td>-2.299190</td>\n",
       "      <td>0.832206</td>\n",
       "      <td>0.966671</td>\n",
       "      <td>False</td>\n",
       "    </tr>\n",
       "  </tbody>\n",
       "</table>\n",
       "</div>"
      ],
      "text/plain": [
       "         coef   std err         t     P>|t|  Conf. Int. Low  Conf. Int. Upp.  \\\n",
       "B-A -0.217839  0.766645 -0.284146  0.778251       -1.783537         1.347859   \n",
       "C-A -0.905720  0.766645 -1.181407  0.246722       -2.471418         0.659979   \n",
       "D-A  0.088635  0.766645  0.115615  0.908728       -1.477063         1.654334   \n",
       "E-A -0.644857  0.766645 -0.841141  0.406924       -2.210555         0.920842   \n",
       "C-B -0.687881  0.766645 -0.897261  0.376724       -2.253579         0.877818   \n",
       "D-B  0.306474  0.766645  0.399760  0.692165       -1.259224         1.872173   \n",
       "E-B -0.427018  0.766645 -0.556995  0.581663       -1.992716         1.138681   \n",
       "D-C  0.994355  0.766645  1.297021  0.204511       -0.571343         2.560053   \n",
       "E-C  0.260863  0.766645  0.340266  0.736028       -1.304835         1.826561   \n",
       "E-D -0.733492  0.766645 -0.956756  0.346338       -2.299190         0.832206   \n",
       "\n",
       "     pvalue-hs  reject-hs  \n",
       "B-A   0.991020      False  \n",
       "C-A   0.921910      False  \n",
       "D-A   0.991020      False  \n",
       "E-A   0.966671      False  \n",
       "C-B   0.966671      False  \n",
       "D-B   0.991020      False  \n",
       "E-B   0.987188      False  \n",
       "D-C   0.898529      False  \n",
       "E-C   0.991020      False  \n",
       "E-D   0.966671      False  "
      ]
     },
     "execution_count": 48,
     "metadata": {},
     "output_type": "execute_result"
    }
   ],
   "source": [
    "pair_t = lm.t_test_pairwise('store')\n",
    "pair_t.result_frame"
   ]
  },
  {
   "cell_type": "markdown",
   "metadata": {},
   "source": [
    "To understand what happens in this table, We will now show the computation of each of the values in the ANOVA table from scratch!"
   ]
  },
  {
   "cell_type": "markdown",
   "metadata": {},
   "source": [
    "### 4. 1-Way ANOVA (from scratch)"
   ]
  },
  {
   "cell_type": "markdown",
   "metadata": {},
   "source": [
    "#### 4.1. Sum of Squares Total\n",
    "Let’s get to the action! What I described before as variation is mathematically measured by the Sum of Squares,\n",
    "\n",
    "$$\\sum_{i=1}^{n} {(y_{i}-\\bar{y})^{2}}$$"
   ]
  },
  {
   "cell_type": "code",
   "execution_count": 49,
   "metadata": {},
   "outputs": [
    {
     "data": {
      "text/plain": [
       "11.735144623687612"
      ]
     },
     "execution_count": 49,
     "metadata": {},
     "output_type": "execute_result"
    }
   ],
   "source": [
    "# compute overall mean\n",
    "overall_mean = data['price'].mean()\n",
    "overall_mean"
   ]
  },
  {
   "cell_type": "code",
   "execution_count": 50,
   "metadata": {},
   "outputs": [
    {
     "data": {
      "text/plain": [
       "66.80321731055562"
      ]
     },
     "execution_count": 50,
     "metadata": {},
     "output_type": "execute_result"
    }
   ],
   "source": [
    "# compute Sum of Squares Total\n",
    "data['overall_mean'] = overall_mean\n",
    "ss_total = sum((data['price'] - data['overall_mean'])**2)\n",
    "ss_total"
   ]
  },
  {
   "cell_type": "markdown",
   "metadata": {},
   "source": [
    "This value can be found in the ANOVA table of statsmodels by taking the sum of the sum_sq column.\n",
    "\n",
    "#### 4.2. Sum of Squares Residual\n",
    "The computation for residual Sum of Squares is slightly different because it takes not the overall average, but the three group averages.\n",
    "\n",
    "We need to subtract each value from the mean of its group (the mean of its own store) and then square those differences and sum them.\n",
    "\n",
    "Here’s how it’s done in Python:"
   ]
  },
  {
   "cell_type": "code",
   "execution_count": 51,
   "metadata": {},
   "outputs": [
    {
     "data": {
      "text/html": [
       "<div>\n",
       "<style scoped>\n",
       "    .dataframe tbody tr th:only-of-type {\n",
       "        vertical-align: middle;\n",
       "    }\n",
       "\n",
       "    .dataframe tbody tr th {\n",
       "        vertical-align: top;\n",
       "    }\n",
       "\n",
       "    .dataframe thead th {\n",
       "        text-align: right;\n",
       "    }\n",
       "</style>\n",
       "<table border=\"1\" class=\"dataframe\">\n",
       "  <thead>\n",
       "    <tr style=\"text-align: right;\">\n",
       "      <th></th>\n",
       "      <th>group_mean</th>\n",
       "      <th>overall_mean</th>\n",
       "    </tr>\n",
       "    <tr>\n",
       "      <th>store</th>\n",
       "      <th></th>\n",
       "      <th></th>\n",
       "    </tr>\n",
       "  </thead>\n",
       "  <tbody>\n",
       "    <tr>\n",
       "      <th>A</th>\n",
       "      <td>12.071101</td>\n",
       "      <td>11.735145</td>\n",
       "    </tr>\n",
       "    <tr>\n",
       "      <th>B</th>\n",
       "      <td>11.853262</td>\n",
       "      <td>11.735145</td>\n",
       "    </tr>\n",
       "    <tr>\n",
       "      <th>C</th>\n",
       "      <td>11.165381</td>\n",
       "      <td>11.735145</td>\n",
       "    </tr>\n",
       "    <tr>\n",
       "      <th>D</th>\n",
       "      <td>12.159736</td>\n",
       "      <td>11.735145</td>\n",
       "    </tr>\n",
       "    <tr>\n",
       "      <th>E</th>\n",
       "      <td>11.426244</td>\n",
       "      <td>11.735145</td>\n",
       "    </tr>\n",
       "  </tbody>\n",
       "</table>\n",
       "</div>"
      ],
      "text/plain": [
       "       group_mean  overall_mean\n",
       "store                          \n",
       "A       12.071101     11.735145\n",
       "B       11.853262     11.735145\n",
       "C       11.165381     11.735145\n",
       "D       12.159736     11.735145\n",
       "E       11.426244     11.735145"
      ]
     },
     "execution_count": 51,
     "metadata": {},
     "output_type": "execute_result"
    }
   ],
   "source": [
    "# compute group means\n",
    "group_means = data.groupby('store').mean()\n",
    "group_means = group_means.rename(columns = {'price': 'group_mean'})\n",
    "group_means"
   ]
  },
  {
   "cell_type": "code",
   "execution_count": 52,
   "metadata": {},
   "outputs": [],
   "source": [
    "# add group means and overall mean to the original data frame\n",
    "data = data.merge(group_means, left_on = 'store', right_index = True)"
   ]
  },
  {
   "cell_type": "code",
   "execution_count": 53,
   "metadata": {},
   "outputs": [
    {
     "data": {
      "text/plain": [
       "61.71319488221111"
      ]
     },
     "execution_count": 53,
     "metadata": {},
     "output_type": "execute_result"
    }
   ],
   "source": [
    "# compute Sum of Squares Residual\n",
    "ss_residual = sum((data['price'] - data['group_mean'])**2)\n",
    "ss_residual"
   ]
  },
  {
   "cell_type": "markdown",
   "metadata": {},
   "source": [
    "We can find this value in the ANOVA table of statsmodels under sum_sq at the line Residual.\n",
    "\n",
    "#### 4.3. Sum of Squares Explained\n",
    "Having computed the total sum of squares and the residual sum of squares, we can now compute the Explained Sum of Squares using:\n",
    "\n",
    "$$SS_{total} = SS_{explained} + SS_{residual}$$\n",
    "\n",
    "Since we already have the SS-Residual and SS-Total, we could do a simple subtraction to get SS-Explained. To get there the hard way, we take the weighted sum of the squared differences between each group means and the overall mean, as follows:"
   ]
  },
  {
   "cell_type": "code",
   "execution_count": 54,
   "metadata": {},
   "outputs": [
    {
     "data": {
      "text/plain": [
       "5.090022428344523"
      ]
     },
     "execution_count": 54,
     "metadata": {},
     "output_type": "execute_result"
    }
   ],
   "source": [
    "# compute Sum of Squares Model\n",
    "ss_explained = sum((data['overall_mean_x'] - data['group_mean'])**2)\n",
    "ss_explained"
   ]
  },
  {
   "cell_type": "markdown",
   "metadata": {},
   "source": [
    "The value can be found in the statsmodels table under sum_sq at the line company.\n",
    "\n",
    "#### 4.4. Degrees of freedom\n",
    "I don’t go into the degrees of freedom in this article, but we need them in further computation:\n",
    "- df1 = df of the explained part = number of groups — 1\n",
    "- df2 = df of the residual = number of observations — number of groups\n",
    "\n",
    "In our example, df1 = 4 and df2 = 30.\n",
    "\n",
    "#### 4.5. Mean Squares\n",
    "The statistical test that is central in ANOVA is the F-test. The null hypothesis states that the mean of all groups is equal, which implies that our model has no explanatory value and that we don’t have proof for choosing one store over another to buy the book.\n",
    "\n",
    "The alternative hypothesis states that at least one of the means is different, which would be a reason to go more in-depth and find out which store or stores are cheaper.\n",
    "\n",
    "We compute the Mean Squares as follows:\n",
    "\n",
    "$$MS_{explained} = \\frac{SS_{explained}}{df_{explained}}$$\n",
    "$$MS_{residual} = \\frac{SS_{residual}}{df_{residual}}$$\n",
    "\n",
    "Here’s how it’s done in Python:\n"
   ]
  },
  {
   "cell_type": "code",
   "execution_count": 55,
   "metadata": {},
   "outputs": [
    {
     "data": {
      "text/plain": [
       "2.0571064960737035"
      ]
     },
     "execution_count": 55,
     "metadata": {},
     "output_type": "execute_result"
    }
   ],
   "source": [
    "# compute Mean Square Residual\n",
    "n_groups = len(set(data['store']))\n",
    "n_obs = data.shape[0]\n",
    "df_residual = n_obs - n_groups\n",
    "ms_residual = ss_residual / df_residual\n",
    "ms_residual"
   ]
  },
  {
   "cell_type": "markdown",
   "metadata": {},
   "source": [
    "### 4.6. F Statistic\n",
    "We use the Mean Squares to compute the F statistic as the ratio between explained vs unexplained variation:\n",
    "\n",
    "$$f = \\frac{MS_{explained}}{MS_{residual}}$$\n",
    "\n",
    "Here is the implementation in Python:"
   ]
  },
  {
   "cell_type": "code",
   "execution_count": 56,
   "metadata": {},
   "outputs": [
    {
     "data": {
      "text/plain": [
       "1.2725056070861307"
      ]
     },
     "execution_count": 56,
     "metadata": {},
     "output_type": "execute_result"
    }
   ],
   "source": [
    "# compute Mean Square Explained\n",
    "df_explained = n_groups - 1\n",
    "ms_explained = ss_explained / df_explained\n",
    "ms_explained"
   ]
  },
  {
   "cell_type": "code",
   "execution_count": 57,
   "metadata": {},
   "outputs": [
    {
     "data": {
      "text/plain": [
       "0.6185900484563627"
      ]
     },
     "execution_count": 57,
     "metadata": {},
     "output_type": "execute_result"
    }
   ],
   "source": [
    "# compute F-Value\n",
    "f = ms_explained / ms_residual\n",
    "f"
   ]
  },
  {
   "cell_type": "markdown",
   "metadata": {},
   "source": [
    "#### 4.7. P-value\n",
    "In hypothesis testing, the p-value is used to decide whether an alternative hypothesis can be accepted or not (read more on p-values here if necessary).\n",
    "\n",
    "If the p-value is below 0.05, we reject the null hypothesis in favor of the alternative: this means that at least one group mean is __significantly different__.\n",
    "\n",
    "We compute the P-Value using the F distribution with df1 and df2 degrees of freedom, in our case an F(4, 30) distribution. Using probability calculation, we find the p-value as follows:"
   ]
  },
  {
   "cell_type": "code",
   "execution_count": 58,
   "metadata": {},
   "outputs": [
    {
     "data": {
      "text/plain": [
       "0.6527013700819105"
      ]
     },
     "execution_count": 58,
     "metadata": {},
     "output_type": "execute_result"
    }
   ],
   "source": [
    "# compute p-value\n",
    "import scipy.stats\n",
    "p_value = 1 - scipy.stats.f.cdf(f, df_explained, df_residual)\n",
    "p_value"
   ]
  },
  {
   "cell_type": "markdown",
   "metadata": {},
   "source": [
    "#### 4.8. Interpret p-value\n",
    "\n",
    "We have to compare the p-value to our chosen alpha, in this case, 0,05.\n",
    "Our p-value of 0.65 is larger than 0,05, so we cannot reject our null hypothesis and we cannot accept our alternative. Even though the three sample means are different, __we do not have a statistically significant difference.__\n",
    "\n",
    "This means that with the observed data, there is not enough evidence to assume a general difference in price of book across the given 5 bookstores ."
   ]
  },
  {
   "cell_type": "markdown",
   "metadata": {},
   "source": [
    "## 5. Conclusion\n",
    "\n",
    "In this Notebook, ANOVA has allowed us to statistically test whether sample differences can be generalized as population differences.\n",
    "\n",
    "In our data, one store was cheaper on average, but thanks to ANOVA we realize that this difference is not significant: we don’t have enough proof to conclude that one store is cheaper in general.\n",
    "\n",
    "This perfectly illustrates the goal of statistical inference: telling whether an observed difference is significant or not."
   ]
  },
  {
   "cell_type": "code",
   "execution_count": null,
   "metadata": {},
   "outputs": [],
   "source": []
  }
 ],
 "metadata": {
  "kernelspec": {
   "display_name": "Python 3",
   "language": "python",
   "name": "python3"
  },
  "language_info": {
   "codemirror_mode": {
    "name": "ipython",
    "version": 3
   },
   "file_extension": ".py",
   "mimetype": "text/x-python",
   "name": "python",
   "nbconvert_exporter": "python",
   "pygments_lexer": "ipython3",
   "version": "3.7.3"
  }
 },
 "nbformat": 4,
 "nbformat_minor": 4
}
