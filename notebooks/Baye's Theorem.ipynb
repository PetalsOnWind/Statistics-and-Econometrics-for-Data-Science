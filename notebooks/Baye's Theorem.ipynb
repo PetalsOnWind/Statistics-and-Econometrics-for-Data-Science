{
 "cells": [
  {
   "cell_type": "markdown",
   "metadata": {},
   "source": [
    "# BAYE'S THEOREM"
   ]
  },
  {
   "cell_type": "markdown",
   "metadata": {},
   "source": [
    "<img src=\"https://latex.codecogs.com/svg.latex?\\Large&space;P(A|B)=\\frac{P(A)+P(B|A)}{P(B)}\" title=\"Bayes Theorem Equation\" />\n"
   ]
  },
  {
   "cell_type": "markdown",
   "metadata": {},
   "source": [
    "##### P(A) = Probability of A\n",
    "##### P(B) = Probability of A\n",
    "##### P(B|A) = Probability of B given A is True\n",
    "##### P(A|B) = Probability of A given B is True"
   ]
  },
  {
   "cell_type": "markdown",
   "metadata": {},
   "source": [
    "### Example\n",
    "##### Imagine 100 people at a party, and you tally how many wear pink or not, and if a man or not. There are 40 Men in which 5 wear Pink, and 20 women wears Pink. Find the probability that a person wearing pink is a man.\n",
    "\n",
    "#### Solution\n",
    "\n",
    "<img src=\"https://i.imgur.com/fUXFFHa.png\"/>\n",
    "<img src=\"https://i.imgur.com/vUjSBFI.png\"/>\n",
    "\n",
    "##### The probability of being a man is P(Man) =  40/100  = 0.4\n",
    "##### The probability of wearing pink is P(Pink) =  25/100  = 0.25\n",
    "##### The probability that a man wears pink is P(Pink|Man) =  5/40  = 0.125\n",
    "##### The probability that a person wearing pink is a man P(Man|Pink) =  [P(Man).P(Pink|Man)]/P(Pink)\n",
    "\n",
    "##### P(Man|Pink) = (0.4 * 0.125)/0.25 = 0.2\n"
   ]
  },
  {
   "cell_type": "code",
   "execution_count": 1,
   "metadata": {},
   "outputs": [
    {
     "name": "stdout",
     "output_type": "stream",
     "text": [
      "[['    |' 'B    ' 'notB']\n",
      " ['____' '____' '____']\n",
      " ['A    ' 'p   ' 'q   ']\n",
      " ['notA|' 'r   ' 's   ']]\n"
     ]
    }
   ],
   "source": [
    "import numpy as np\n",
    "A = 'A    '\n",
    "B = 'B    '\n",
    "mat = np.array([['    |', B, 'not'+B.strip()],\n",
    "    ['____','____','____'],\n",
    "    [A, 'p   ', 'q   '],\n",
    "    ['not'+A.strip()+'|', 'r   ', 's   ']])\n",
    "\n",
    "print(np.matrix(mat))"
   ]
  },
  {
   "cell_type": "code",
   "execution_count": 2,
   "metadata": {},
   "outputs": [
    {
     "name": "stdin",
     "output_type": "stream",
     "text": [
      "Value of p =  5\n",
      "Value of q =  35\n",
      "Value of r =  20\n",
      "Value of s =  40\n"
     ]
    },
    {
     "name": "stdout",
     "output_type": "stream",
     "text": [
      "P(A) = 0.4\n",
      "P(B) = 0.25\n",
      "P(B|A) = 0.125\n",
      "P(A|B) = 0.2\n"
     ]
    }
   ],
   "source": [
    "p = int(input(\"Value of p = \"))\n",
    "q = int(input(\"Value of q = \"))\n",
    "r = int(input(\"Value of r = \"))\n",
    "s = int(input(\"Value of s = \"))\n",
    "probA = (p+q)/(p+q+r+s)               # probability of A\n",
    "probB = (p+r)/(p+q+r+s)               # probability of B\n",
    "probBA = (p/(p+q))                    # probability of B given A is true\n",
    "probAB = (probA * probBA) / probB     # probability of A given B is true\n",
    "print(\"P(A) = \" + str(probA))\n",
    "print(\"P(B) = \" + str(probB))\n",
    "print(\"P(B|A) = \" + str(probBA))\n",
    "print(\"P(A|B) = \" + str(probAB))\n"
   ]
  },
  {
   "cell_type": "code",
   "execution_count": null,
   "metadata": {},
   "outputs": [],
   "source": []
  }
 ],
 "metadata": {
  "kernelspec": {
   "display_name": "Python 3",
   "language": "python",
   "name": "python3"
  },
  "language_info": {
   "codemirror_mode": {
    "name": "ipython",
    "version": 3
   },
   "file_extension": ".py",
   "mimetype": "text/x-python",
   "name": "python",
   "nbconvert_exporter": "python",
   "pygments_lexer": "ipython3",
   "version": "3.7.6"
  }
 },
 "nbformat": 4,
 "nbformat_minor": 4
}
