{
 "cells": [
  {
   "cell_type": "markdown",
   "metadata": {},
   "source": [
    "#                                 **ANOVA**\n",
    "\n",
    " ANOVA stands for Analysis of Variance. ANOVA test is a way to know if a survey result is significant. It is used to compare the means of more than 2 groups. Here groups mean differences which are inferred by analyzing variances.\n",
    "The following can be example of groups:\n",
    "* A group of psychiatric patients are trying three different therapies: counseling, medication and biofeedback. You want to see if one therapy is better than the others.\n",
    "* A manufacturer has two different processes to make light bulbs. They want to know if one process is better than the other.\n",
    "\n",
    "It helps us to know if we need to accept null hypothesis(there is no variation in means of groups) or accept alternate hypothesis( that is at least, one group's mean is different from other groups)\n",
    "\n",
    "ANOVA uses variance-based F test to check the group mean equality.\n",
    "\n",
    "There are different ways of ANOVA test and two main types are One way and Two way.\n",
    "* One-way has one independent variable. \n",
    "* Two-way has two independent variables\n",
    "\n",
    "Some assumptions related to this test are:\n",
    "1. Experimental errors are normally distributed among all groups. \n",
    "2. variances are equal between groups.\n",
    "3. Observations are sampled independently from each other"
   ]
  },
  {
   "cell_type": "code",
   "execution_count": null,
   "metadata": {},
   "outputs": [],
   "source": []
  }
 ],
 "metadata": {
  "kernelspec": {
   "display_name": "Python 3",
   "language": "python",
   "name": "python3"
  },
  "language_info": {
   "codemirror_mode": {
    "name": "ipython",
    "version": 3
   },
   "file_extension": ".py",
   "mimetype": "text/x-python",
   "name": "python",
   "nbconvert_exporter": "python",
   "pygments_lexer": "ipython3",
   "version": "3.7.9"
  }
 },
 "nbformat": 4,
 "nbformat_minor": 4
}
