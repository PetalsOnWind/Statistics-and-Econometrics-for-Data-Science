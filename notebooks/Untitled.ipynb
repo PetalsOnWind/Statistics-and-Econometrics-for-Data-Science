{
 "cells": [
  {
   "cell_type": "markdown",
   "metadata": {},
   "source": [
    "# Linear Regression"
   ]
  },
  {
   "cell_type": "markdown",
   "metadata": {},
   "source": [
    "If a linear relatinship exists between a pair of variables, then regression helps to identify the coefficients of that relationship.\n",
    "\n",
    "For example, we have a relationship\n",
    "$ y = \\alpha + \\beta x $\n",
    "for a set of $m$ pairs of $y$ and $x$. Then linear regression would aim to identify the values of $ \\alpha $ and $\\beta$ from the given data points."
   ]
  },
  {
   "cell_type": "markdown",
   "metadata": {},
   "source": [
    "For each data point, the relationship is not exact and there is a random error involved. \n",
    "\n",
    "$ y_i  = \\alpha + \\beta x_i + u_i $\n",
    "(where $u_i$ is the error component)\n",
    "\n",
    "So, the relationship is not as easy to estimate as solving a pair of equations. To make calculations easier, we impose a set of restrictions on $u_i$\n",
    "\n",
    "##### Assumptions\n",
    "1. $u_i \\stackrel{i.i.d.}{\\sim} N(0,\\sigma^2)$ , that is $u_i$ is independently and identically distributed from a normal distribution and a violation of this means that many of the existing statistical tests may not hold true.\n",
    "2. $E(u_i) = 0 $, that is the expectation (or mean) of the error is zero. Any violation of this would result in biased estimators.\n",
    "3. $V(u_i) = \\sigma^2$, that is the variance ofthe errors is constant. The violation of this is known as heteroskedasticity and would result in inefficient estimators.\n",
    "4. $E(u_i u_j) = 0, i \\neq j$, that is the errors are uncorrelated with each other. One of the violations of this occurs when the errors are serially correlated and is known as autocorrelation which results in inefficient estimators.\n",
    "5. $E(x_i u_i) = 0$, any violation of this is known as endogeneity and results in inconsistent estimators."
   ]
  },
  {
   "cell_type": "code",
   "execution_count": 6,
   "metadata": {},
   "outputs": [],
   "source": [
    "# importing packages\n",
    "import numpy as np\n",
    "import matplotlib.pyplot as plt\n",
    "from sklearn.linear_model import LinearRegression\n",
    "from statsmodels.regression.linear_model import OLS\n",
    "\n",
    "%matplotlib inline"
   ]
  },
  {
   "cell_type": "markdown",
   "metadata": {},
   "source": [
    "Let us generate a random dataset and see what the regression in the existing packages looks like. Here, we'll use LinearRegression in sklearn and OLS (ordinary least squares) in statsmodels"
   ]
  },
  {
   "cell_type": "code",
   "execution_count": 63,
   "metadata": {},
   "outputs": [],
   "source": [
    "# setting sample size\n",
    "m = 200\n",
    "\n",
    "# generating random sample of x (here, I am assuming that x is coming from a uniform distribution)\n",
    "x = np.random.uniform(low = 0, high = 10, size = m)\n",
    "\n",
    "# generating the errors (note that errors need to come from a normal distribution)\n",
    "u = np.random.normal(loc = 0, scale = 3.5, size = m) # loc = mean, scale = variance\n",
    "\n",
    "# arbitrarily setting a relation of y = 4 + 5x (numpy takes care of broadcasting the neceesary size)\n",
    "y = 13 + 8*x + u"
   ]
  },
  {
   "cell_type": "code",
   "execution_count": 64,
   "metadata": {},
   "outputs": [
    {
     "data": {
      "text/plain": [
       "<matplotlib.collections.PathCollection at 0x147b8a57188>"
      ]
     },
     "execution_count": 64,
     "metadata": {},
     "output_type": "execute_result"
    },
    {
     "data": {
      "image/png": "[encoded data removed]",
      "text/plain": [
       "<Figure size 432x288 with 1 Axes>"
      ]
     },
     "metadata": {
      "needs_background": "light"
     },
     "output_type": "display_data"
    }
   ],
   "source": [
    "# plotting and seeing what the data looks like\n",
    "plt.scatter(x,y)"
   ]
  },
  {
   "cell_type": "markdown",
   "metadata": {},
   "source": [
    "From the above graph, we can expect the relationship to be linear but do not necessarily know what that could be. Let's see what the libraries give us.\n",
    "\n",
    "Documentation:\n",
    "1. [sklearn](https://scikit-learn.org/stable/modules/generated/sklearn.linear_model.LinearRegression.html)\n",
    "2. [statsmodels](https://www.statsmodels.org/stable/generated/statsmodels.regression.linear_model.OLS.html)"
   ]
  },
  {
   "cell_type": "code",
   "execution_count": 65,
   "metadata": {},
   "outputs": [
    {
     "name": "stdout",
     "output_type": "stream",
     "text": [
      "R^2 = \t\t 0.9724\n",
      "intercept = \t 13.0796\n",
      "slope = \t 8.0092\n"
     ]
    }
   ],
   "source": [
    "# from sklearn\n",
    "model = LinearRegression()\n",
    "model.fit(x.reshape(-1,1),y)\n",
    "\n",
    "# results\n",
    "print(\"R^2 = \\t\\t {0:.4f}\".format(model.score(x.reshape(-1,1),y)))\n",
    "print(\"intercept = \\t {0:.4f}\".format(model.intercept_))\n",
    "print(\"slope = \\t {0:.4f}\".format(model.coef_[0]))"
   ]
  },
  {
   "cell_type": "code",
   "execution_count": 66,
   "metadata": {},
   "outputs": [
    {
     "name": "stdout",
     "output_type": "stream",
     "text": [
      "Shape of X is (200, 2)\n",
      "First element of X is [1.         1.44453756]\n"
     ]
    }
   ],
   "source": [
    "# from statsmodels\n",
    "\n",
    "# statsmodels requires a constant to be present for calculating the intercept\n",
    "X = np.array([np.ones(m), x]).T    # there is a add constant function too but here we add the constant manually\n",
    "print(\"Shape of X is\", X.shape)\n",
    "print(\"First element of X is\", X[0])"
   ]
  },
  {
   "cell_type": "code",
   "execution_count": 67,
   "metadata": {},
   "outputs": [
    {
     "name": "stdout",
     "output_type": "stream",
     "text": [
      "                            OLS Regression Results                            \n",
      "==============================================================================\n",
      "Dep. Variable:                      y   R-squared:                       0.972\n",
      "Model:                            OLS   Adj. R-squared:                  0.972\n",
      "Method:                 Least Squares   F-statistic:                     6967.\n",
      "Date:                Sun, 06 Dec 2020   Prob (F-statistic):          2.91e-156\n",
      "Time:                        12:39:24   Log-Likelihood:                -554.86\n",
      "No. Observations:                 200   AIC:                             1114.\n",
      "Df Residuals:                     198   BIC:                             1120.\n",
      "Df Model:                           1                                         \n",
      "Covariance Type:            nonrobust                                         \n",
      "==============================================================================\n",
      "                 coef    std err          t      P>|t|      [0.025      0.975]\n",
      "------------------------------------------------------------------------------\n",
      "const         13.0796      0.577     22.662      0.000      11.941      14.218\n",
      "x1             8.0092      0.096     83.468      0.000       7.820       8.198\n",
      "==============================================================================\n",
      "Omnibus:                        2.913   Durbin-Watson:                   1.964\n",
      "Prob(Omnibus):                  0.233   Jarque-Bera (JB):                2.828\n",
      "Skew:                           0.129   Prob(JB):                        0.243\n",
      "Kurtosis:                       3.523   Cond. No.                         12.9\n",
      "==============================================================================\n",
      "\n",
      "Notes:\n",
      "[1] Standard Errors assume that the covariance matrix of the errors is correctly specified.\n"
     ]
    }
   ],
   "source": [
    "# running the regression\n",
    "model = OLS(y,X, hasconst=True)\n",
    "results = model.fit()\n",
    "print(results.summary())"
   ]
  },
  {
   "cell_type": "markdown",
   "metadata": {},
   "source": [
    "Suddenly, we have a lot more data available on running the regression. We can see that the R-squared, intercept and slope are the same from both the methods but we don't know what $R^2$, $std err$, $t$, $P>|t|$ or the various other terms are. The next part of the notebook has two objective:\n",
    "1. Understanding how the coefficients were derived\n",
    "2. Understanding what most of the terms in the results of statsmodels mean"
   ]
  },
  {
   "cell_type": "markdown",
   "metadata": {},
   "source": [
    "#### Deriving the solutions of the coefficients\n",
    "We aim to find $\\alpha$ and $\\beta$ that minimize the variance of the error term, that is, we find $\\alpha$ and $\\beta$ such that\n",
    "$$\n",
    "Min \\hspace{0.2cm} \\Sigma u_i^2 \\\\\n",
    "\\hspace{2.5cm} = Min \\hspace{0.2cm} \\Sigma (y_i - \\alpha - \\beta x_i)^2 \n",
    "$$\n",
    "\n",
    "This term can be minimized by differentiating $\\Sigma (y_i - \\alpha - \\beta x_i)^2$ with respect to $\\alpha$ and $\\beta$. On doing that we get the equations:\n",
    "$$\n",
    "\\hat \\beta = \\frac{\\Sigma(x_i - \\bar x)(y_i - \\bar y)}{\\Sigma(x_i - \\bar x)^2}\\\\\n",
    "\\hat \\alpha = \\bar y - \\hat \\beta \\bar x\n",
    "$$\n",
    "where $\\hat \\beta$ and $\\hat \\alpha$ are the estimated values of $\\alpha$ and $\\beta$ (while $\\alpha$ and $\\beta$ are the actuals values).\n",
    "\n",
    "The equations for $\\hat \\beta$ and $\\hat \\alpha$ are also known as the **normal equations**."
   ]
  },
  {
   "cell_type": "code",
   "execution_count": 75,
   "metadata": {},
   "outputs": [
    {
     "name": "stdout",
     "output_type": "stream",
     "text": [
      "beta_hat = 8.0092\n",
      "alpha_hat = 13.0796\n"
     ]
    }
   ],
   "source": [
    "# if we do this manually\n",
    "x_bar = x.mean()\n",
    "y_bar = y.mean()\n",
    "beta_hat = np.sum(np.dot(x-x_bar, y-y_bar))/np.sum(np.power(x-x_bar, 2))\n",
    "alpha_hat = y_bar - beta_hat * x_bar\n",
    "print(\"beta_hat = {0:.4f}\".format(beta_hat))\n",
    "print(\"alpha_hat = {0:.4f}\".format(alpha_hat))"
   ]
  },
  {
   "cell_type": "markdown",
   "metadata": {},
   "source": [
    "We have obtained the exact value as that given by the libraries used."
   ]
  },
  {
   "cell_type": "markdown",
   "metadata": {},
   "source": [
    "#### Understanding the terms"
   ]
  },
  {
   "cell_type": "code",
   "execution_count": null,
   "metadata": {},
   "outputs": [],
   "source": []
  }
 ],
 "metadata": {
  "kernelspec": {
   "display_name": "Python 3",
   "language": "python",
   "name": "python3"
  },
  "language_info": {
   "codemirror_mode": {
    "name": "ipython",
    "version": 3
   },
   "file_extension": ".py",
   "mimetype": "text/x-python",
   "name": "python",
   "nbconvert_exporter": "python",
   "pygments_lexer": "ipython3",
   "version": "3.7.9"
  }
 },
 "nbformat": 4,
 "nbformat_minor": 4
}
